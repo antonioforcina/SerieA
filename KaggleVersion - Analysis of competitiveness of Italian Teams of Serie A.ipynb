{
 "cells": [
  {
   "cell_type": "markdown",
   "id": "54ba345c",
   "metadata": {
    "toc": true
   },
   "source": [
    "<h1>Table of Contents<span class=\"tocSkip\"></span></h1>\n",
    "<div class=\"toc\"><ul class=\"toc-item\"><li><span><a href=\"#Summary\" data-toc-modified-id=\"Summary-1\"><span class=\"toc-item-num\">1&nbsp;&nbsp;</span>Summary</a></span></li><li><span><a href=\"#Install-Packages\" data-toc-modified-id=\"Install-Packages-2\"><span class=\"toc-item-num\">2&nbsp;&nbsp;</span>Install Packages</a></span></li><li><span><a href=\"#Import-files\" data-toc-modified-id=\"Import-files-3\"><span class=\"toc-item-num\">3&nbsp;&nbsp;</span>Import files</a></span></li><li><span><a href=\"#Data-Exploration\" data-toc-modified-id=\"Data-Exploration-4\"><span class=\"toc-item-num\">4&nbsp;&nbsp;</span>Data Exploration</a></span></li><li><span><a href=\"#Preprocessing\" data-toc-modified-id=\"Preprocessing-5\"><span class=\"toc-item-num\">5&nbsp;&nbsp;</span>Preprocessing</a></span><ul class=\"toc-item\"><li><span><a href=\"#Unique-Teams\" data-toc-modified-id=\"Unique-Teams-5.1\"><span class=\"toc-item-num\">5.1&nbsp;&nbsp;</span>Unique Teams</a></span></li><li><span><a href=\"#Isolating-Home-Scores\" data-toc-modified-id=\"Isolating-Home-Scores-5.2\"><span class=\"toc-item-num\">5.2&nbsp;&nbsp;</span>Isolating Home Scores</a></span></li><li><span><a href=\"#Isolating-Away-Scores\" data-toc-modified-id=\"Isolating-Away-Scores-5.3\"><span class=\"toc-item-num\">5.3&nbsp;&nbsp;</span>Isolating Away Scores</a></span></li><li><span><a href=\"#Combine-Home-and-Away-scores-in-one-dataset\" data-toc-modified-id=\"Combine-Home-and-Away-scores-in-one-dataset-5.4\"><span class=\"toc-item-num\">5.4&nbsp;&nbsp;</span>Combine Home and Away scores in one dataset</a></span></li><li><span><a href=\"#Converting-the-final-result-into-points\" data-toc-modified-id=\"Converting-the-final-result-into-points-5.5\"><span class=\"toc-item-num\">5.5&nbsp;&nbsp;</span>Converting the final result into points</a></span></li><li><span><a href=\"#Aggregating-data-per-team-based-on-variables\" data-toc-modified-id=\"Aggregating-data-per-team-based-on-variables-5.6\"><span class=\"toc-item-num\">5.6&nbsp;&nbsp;</span>Aggregating data per team based on variables</a></span></li><li><span><a href=\"#Creating-a-new-Dataframe-with-aggregated-scores-per-team-and-variables\" data-toc-modified-id=\"Creating-a-new-Dataframe-with-aggregated-scores-per-team-and-variables-5.7\"><span class=\"toc-item-num\">5.7&nbsp;&nbsp;</span>Creating a new Dataframe with aggregated scores per team and variables</a></span></li></ul></li><li><span><a href=\"#KMean\" data-toc-modified-id=\"KMean-6\"><span class=\"toc-item-num\">6&nbsp;&nbsp;</span>KMean</a></span><ul class=\"toc-item\"><li><span><a href=\"#Tuning-the-alghorithm\" data-toc-modified-id=\"Tuning-the-alghorithm-6.1\"><span class=\"toc-item-num\">6.1&nbsp;&nbsp;</span>Tuning the alghorithm</a></span></li><li><span><a href=\"#Algorithm-Application\" data-toc-modified-id=\"Algorithm-Application-6.2\"><span class=\"toc-item-num\">6.2&nbsp;&nbsp;</span>Algorithm Application</a></span></li></ul></li><li><span><a href=\"#Conclusions\" data-toc-modified-id=\"Conclusions-7\"><span class=\"toc-item-num\">7&nbsp;&nbsp;</span>Conclusions</a></span></li></ul></div>"
   ]
  },
  {
   "cell_type": "markdown",
   "id": "b061ccb0",
   "metadata": {},
   "source": [
    "# Summary"
   ]
  },
  {
   "cell_type": "markdown",
   "id": "c1ef1c2e",
   "metadata": {},
   "source": [
    "This project aims to analyze the competitiveness of the Italian Teams of Serie A. To do so, and considering the type of data the dataset contains, an unsupervised algorithm (K-MEANS) is used to group similar teams in clusters based on their ten years of game performance. Looking at the Dataset, it is a collection of records for every game played in Italy from 2008 to 2018. There is also the bet value for several organizations that have been dropped because they are not useful for the purpose of this project. The research question is: considering the data related to all the matches played in this timeframe, what are the Clusters that can group similar teams using the K-Means algorithm? The aim is to group similar teams through a scientific method that, after all, could be used to distribute the \"TV Rights\" based on competitiveness and historical performances.\n",
    "\n",
    "Most of the job in this study is related to \"data preparation\". The first challenge has been importing the data from ten different Excel files and merging them into one dataset. Another critical obstacle comes from the fact that each game and each row has data that simultaneously refer to two different teams. With that in mind, in the preprocessing phase, it has been necessary to extract, for each match, all the data referred to the Home Team and the Away Team. Then, the two groups of data were combined again. The last version can be summarized as follows: \n",
    "- 7594 rows representing all matches played as Home Team or Away Team.\n",
    "- 16 columns representing the teams' attributes in terms of scores matured and suffered, such as the number of shots, corners, or goals.\n",
    "\n",
    "Later, the attributes with negative meanings are converted from positive to negative. This is the case of Goals suffered or yellow and red cards. Then, the dataset has been reduced to 34 lines, one for each team that played at least one game in the Italian Serie A in the timeframe considered. This final raw version of the dataset represents the summary of 10 years of games played in the Italian Serie A. Once the data have been grouped per team, an unsupervised algorithm has been applied to identify similar groups of teams.\n"
   ]
  },
  {
   "cell_type": "markdown",
   "id": "94483ebc",
   "metadata": {},
   "source": [
    "# Install Packages"
   ]
  },
  {
   "cell_type": "code",
   "execution_count": 1,
   "id": "7cd20acf",
   "metadata": {},
   "outputs": [
    {
     "name": "stderr",
     "output_type": "stream",
     "text": [
      "Installing package into 'C:/Users/anton/AppData/Local/R/win-library/4.2'\n",
      "(as 'lib' is unspecified)\n",
      "\n"
     ]
    },
    {
     "name": "stdout",
     "output_type": "stream",
     "text": [
      "package 'DataExplorer' successfully unpacked and MD5 sums checked\n",
      "\n",
      "The downloaded binary packages are in\n",
      "\tC:\\Users\\anton\\AppData\\Local\\Temp\\RtmpIhFOnA\\downloaded_packages\n"
     ]
    },
    {
     "name": "stderr",
     "output_type": "stream",
     "text": [
      "Installing package into 'C:/Users/anton/AppData/Local/R/win-library/4.2'\n",
      "(as 'lib' is unspecified)\n",
      "\n"
     ]
    },
    {
     "name": "stdout",
     "output_type": "stream",
     "text": [
      "package 'lessR' successfully unpacked and MD5 sums checked\n",
      "\n",
      "The downloaded binary packages are in\n",
      "\tC:\\Users\\anton\\AppData\\Local\\Temp\\RtmpIhFOnA\\downloaded_packages\n"
     ]
    },
    {
     "name": "stderr",
     "output_type": "stream",
     "text": [
      "Installing package into 'C:/Users/anton/AppData/Local/R/win-library/4.2'\n",
      "(as 'lib' is unspecified)\n",
      "\n"
     ]
    },
    {
     "name": "stdout",
     "output_type": "stream",
     "text": [
      "package 'factoextra' successfully unpacked and MD5 sums checked\n",
      "\n",
      "The downloaded binary packages are in\n",
      "\tC:\\Users\\anton\\AppData\\Local\\Temp\\RtmpIhFOnA\\downloaded_packages\n"
     ]
    },
    {
     "name": "stderr",
     "output_type": "stream",
     "text": [
      "Installing package into 'C:/Users/anton/AppData/Local/R/win-library/4.2'\n",
      "(as 'lib' is unspecified)\n",
      "\n"
     ]
    },
    {
     "name": "stdout",
     "output_type": "stream",
     "text": [
      "package 'useful' successfully unpacked and MD5 sums checked\n",
      "\n",
      "The downloaded binary packages are in\n",
      "\tC:\\Users\\anton\\AppData\\Local\\Temp\\RtmpIhFOnA\\downloaded_packages\n"
     ]
    }
   ],
   "source": [
    "install.packages(\"DataExplorer\")\n",
    "install.packages(\"lessR\")\n",
    "install.packages(\"factoextra\") # Library required for fviz_cluster function\n",
    "install.packages(\"useful\")\n"
   ]
  },
  {
   "cell_type": "code",
   "execution_count": 2,
   "id": "78d95360",
   "metadata": {},
   "outputs": [
    {
     "name": "stderr",
     "output_type": "stream",
     "text": [
      "── \u001b[1mAttaching core tidyverse packages\u001b[22m ──────────────────────── tidyverse 2.0.0 ──\n",
      "\u001b[32m✔\u001b[39m \u001b[34mdplyr    \u001b[39m 1.1.1     \u001b[32m✔\u001b[39m \u001b[34mreadr    \u001b[39m 2.1.4\n",
      "\u001b[32m✔\u001b[39m \u001b[34mforcats  \u001b[39m 1.0.0     \u001b[32m✔\u001b[39m \u001b[34mstringr  \u001b[39m 1.5.0\n",
      "\u001b[32m✔\u001b[39m \u001b[34mggplot2  \u001b[39m 3.4.2     \u001b[32m✔\u001b[39m \u001b[34mtibble   \u001b[39m 3.2.1\n",
      "\u001b[32m✔\u001b[39m \u001b[34mlubridate\u001b[39m 1.9.2     \u001b[32m✔\u001b[39m \u001b[34mtidyr    \u001b[39m 1.3.0\n",
      "\u001b[32m✔\u001b[39m \u001b[34mpurrr    \u001b[39m 1.0.1     \n",
      "── \u001b[1mConflicts\u001b[22m ────────────────────────────────────────── tidyverse_conflicts() ──\n",
      "\u001b[31m✖\u001b[39m \u001b[34mdplyr\u001b[39m::\u001b[32marrange()\u001b[39m   masks \u001b[34mplyr\u001b[39m::arrange()\n",
      "\u001b[31m✖\u001b[39m \u001b[34mpurrr\u001b[39m::\u001b[32mcompact()\u001b[39m   masks \u001b[34mplyr\u001b[39m::compact()\n",
      "\u001b[31m✖\u001b[39m \u001b[34mdplyr\u001b[39m::\u001b[32mcount()\u001b[39m     masks \u001b[34mplyr\u001b[39m::count()\n",
      "\u001b[31m✖\u001b[39m \u001b[34mdplyr\u001b[39m::\u001b[32mdesc()\u001b[39m      masks \u001b[34mplyr\u001b[39m::desc()\n",
      "\u001b[31m✖\u001b[39m \u001b[34mdplyr\u001b[39m::\u001b[32mfailwith()\u001b[39m  masks \u001b[34mplyr\u001b[39m::failwith()\n",
      "\u001b[31m✖\u001b[39m \u001b[34mdplyr\u001b[39m::\u001b[32mfilter()\u001b[39m    masks \u001b[34mstats\u001b[39m::filter()\n",
      "\u001b[31m✖\u001b[39m \u001b[34mdplyr\u001b[39m::\u001b[32mid()\u001b[39m        masks \u001b[34mplyr\u001b[39m::id()\n",
      "\u001b[31m✖\u001b[39m \u001b[34mdplyr\u001b[39m::\u001b[32mlag()\u001b[39m       masks \u001b[34mstats\u001b[39m::lag()\n",
      "\u001b[31m✖\u001b[39m \u001b[34mdplyr\u001b[39m::\u001b[32mmutate()\u001b[39m    masks \u001b[34mplyr\u001b[39m::mutate()\n",
      "\u001b[31m✖\u001b[39m \u001b[34mdplyr\u001b[39m::\u001b[32mrename()\u001b[39m    masks \u001b[34mplyr\u001b[39m::rename()\n",
      "\u001b[31m✖\u001b[39m \u001b[34mdplyr\u001b[39m::\u001b[32msummarise()\u001b[39m masks \u001b[34mplyr\u001b[39m::summarise()\n",
      "\u001b[31m✖\u001b[39m \u001b[34mdplyr\u001b[39m::\u001b[32msummarize()\u001b[39m masks \u001b[34mplyr\u001b[39m::summarize()\n",
      "\u001b[36mℹ\u001b[39m Use the conflicted package (\u001b[3m\u001b[34m<http://conflicted.r-lib.org/>\u001b[39m\u001b[23m) to force all conflicts to become errors\n",
      "\n",
      "lessR 4.2.8                         feedback: gerbing@pdx.edu \n",
      "--------------------------------------------------------------\n",
      "> d <- Read(\"\")   Read text, Excel, SPSS, SAS, or R data file\n",
      "  d is default data frame, data= in analysis routines optional\n",
      "\n",
      "Learn about reading, writing, and manipulating data, graphics,\n",
      "testing means and proportions, regression, factor analysis,\n",
      "customization, and descriptive statistics from pivot tables.\n",
      "  Enter:  browseVignettes(\"lessR\")\n",
      "\n",
      "View changes in this and recent versions of lessR.\n",
      "  Enter: news(package=\"lessR\")\n",
      "\n",
      "Interactive data analysis.\n",
      "  Enter: interact()\n",
      "\n",
      "\n",
      "\n",
      "Attaching package: 'lessR'\n",
      "\n",
      "\n",
      "The following objects are masked from 'package:dplyr':\n",
      "\n",
      "    recode, rename\n",
      "\n",
      "\n",
      "The following objects are masked from 'package:plyr':\n",
      "\n",
      "    ., rename\n",
      "\n",
      "\n",
      "Welcome! Want to learn more? See two factoextra-related books at https://goo.gl/ve3WBa\n",
      "\n"
     ]
    }
   ],
   "source": [
    "library(plyr)\n",
    "library(tidyverse)\n",
    "library(DataExplorer)\n",
    "library(lessR)\n",
    "library(factoextra)\n",
    "library(useful)"
   ]
  },
  {
   "cell_type": "markdown",
   "id": "b9c81849",
   "metadata": {},
   "source": [
    "# Import files\n"
   ]
  },
  {
   "cell_type": "code",
   "execution_count": 3,
   "id": "f5e697b1",
   "metadata": {
    "execution": {
     "iopub.execute_input": "2023-04-25T20:26:39.092046Z",
     "iopub.status.busy": "2023-04-25T20:26:38.978311Z",
     "iopub.status.idle": "2023-04-25T20:26:39.145698Z"
    }
   },
   "outputs": [],
   "source": [
    "#set the working directory\n",
    "setwd(\"C:\\\\Users\\\\anton\\\\Desktop\\\\JupyterNotebook\\\\DATA_MINING_EXAM\\\\ItalianSerieA\")"
   ]
  },
  {
   "cell_type": "code",
   "execution_count": 4,
   "id": "a035b1ea",
   "metadata": {
    "execution": {
     "iopub.execute_input": "2023-04-25T20:26:39.163693Z",
     "iopub.status.busy": "2023-04-25T20:26:39.161059Z",
     "iopub.status.idle": "2023-04-25T20:26:40.041367Z"
    }
   },
   "outputs": [],
   "source": [
    "tbl = list.files(pattern=\"*.csv\")\n",
    "for (i in 1:length(tbl)) assign(tbl[i], read.csv(tbl[i]))\n",
    "list_of_data = lapply(tbl, read.csv)\n",
    "Dataset = do.call(rbind.fill, list_of_data)"
   ]
  },
  {
   "cell_type": "code",
   "execution_count": 5,
   "id": "47fec693",
   "metadata": {
    "execution": {
     "iopub.execute_input": "2023-04-25T20:26:40.074526Z",
     "iopub.status.busy": "2023-04-25T20:26:40.072053Z",
     "iopub.status.idle": "2023-04-25T20:26:40.222968Z"
    }
   },
   "outputs": [
    {
     "data": {
      "text/html": [
       "<table class=\"dataframe\">\n",
       "<caption>A data.frame: 6 × 76</caption>\n",
       "<thead>\n",
       "\t<tr><th></th><th scope=col>Div</th><th scope=col>Date</th><th scope=col>HomeTeam</th><th scope=col>AwayTeam</th><th scope=col>FTHG</th><th scope=col>FTAG</th><th scope=col>FTR</th><th scope=col>HTHG</th><th scope=col>HTAG</th><th scope=col>HTR</th><th scope=col>⋯</th><th scope=col>BbMxAHH</th><th scope=col>BbAvAHH</th><th scope=col>BbMxAHA</th><th scope=col>BbAvAHA</th><th scope=col>PSH</th><th scope=col>PSD</th><th scope=col>PSA</th><th scope=col>PSCH</th><th scope=col>PSCD</th><th scope=col>PSCA</th></tr>\n",
       "\t<tr><th></th><th scope=col>&lt;chr&gt;</th><th scope=col>&lt;chr&gt;</th><th scope=col>&lt;chr&gt;</th><th scope=col>&lt;chr&gt;</th><th scope=col>&lt;int&gt;</th><th scope=col>&lt;int&gt;</th><th scope=col>&lt;chr&gt;</th><th scope=col>&lt;int&gt;</th><th scope=col>&lt;int&gt;</th><th scope=col>&lt;chr&gt;</th><th scope=col>⋯</th><th scope=col>&lt;dbl&gt;</th><th scope=col>&lt;dbl&gt;</th><th scope=col>&lt;dbl&gt;</th><th scope=col>&lt;dbl&gt;</th><th scope=col>&lt;dbl&gt;</th><th scope=col>&lt;dbl&gt;</th><th scope=col>&lt;dbl&gt;</th><th scope=col>&lt;dbl&gt;</th><th scope=col>&lt;dbl&gt;</th><th scope=col>&lt;dbl&gt;</th></tr>\n",
       "</thead>\n",
       "<tbody>\n",
       "\t<tr><th scope=row>1</th><td>I1</td><td>2009-08-22</td><td>Bologna </td><td>Fiorentina</td><td>1</td><td>1</td><td>D</td><td>1</td><td>0</td><td>H</td><td>⋯</td><td>2.57</td><td>2.38</td><td>1.60</td><td>1.54</td><td>NA</td><td>NA</td><td>NA</td><td>NA</td><td>NA</td><td>NA</td></tr>\n",
       "\t<tr><th scope=row>2</th><td>I1</td><td>2009-08-22</td><td>Siena   </td><td>Milan     </td><td>1</td><td>2</td><td>A</td><td>1</td><td>1</td><td>D</td><td>⋯</td><td>1.91</td><td>1.85</td><td>2.08</td><td>2.02</td><td>NA</td><td>NA</td><td>NA</td><td>NA</td><td>NA</td><td>NA</td></tr>\n",
       "\t<tr><th scope=row>3</th><td>I1</td><td>2009-08-23</td><td>Catania </td><td>Sampdoria </td><td>1</td><td>2</td><td>A</td><td>1</td><td>1</td><td>D</td><td>⋯</td><td>1.83</td><td>1.76</td><td>2.12</td><td>2.04</td><td>NA</td><td>NA</td><td>NA</td><td>NA</td><td>NA</td><td>NA</td></tr>\n",
       "\t<tr><th scope=row>4</th><td>I1</td><td>2009-08-23</td><td>Genoa   </td><td>Roma      </td><td>3</td><td>2</td><td>H</td><td>0</td><td>0</td><td>D</td><td>⋯</td><td>1.75</td><td>1.67</td><td>2.30</td><td>2.13</td><td>NA</td><td>NA</td><td>NA</td><td>NA</td><td>NA</td><td>NA</td></tr>\n",
       "\t<tr><th scope=row>5</th><td>I1</td><td>2009-08-23</td><td>Inter   </td><td>Bari      </td><td>1</td><td>1</td><td>D</td><td>0</td><td>0</td><td>D</td><td>⋯</td><td>1.84</td><td>1.79</td><td>2.15</td><td>2.05</td><td>NA</td><td>NA</td><td>NA</td><td>NA</td><td>NA</td><td>NA</td></tr>\n",
       "\t<tr><th scope=row>6</th><td>I1</td><td>2009-08-23</td><td>Juventus</td><td>Chievo    </td><td>1</td><td>0</td><td>H</td><td>1</td><td>0</td><td>H</td><td>⋯</td><td>2.03</td><td>1.96</td><td>1.92</td><td>1.88</td><td>NA</td><td>NA</td><td>NA</td><td>NA</td><td>NA</td><td>NA</td></tr>\n",
       "</tbody>\n",
       "</table>\n"
      ],
      "text/latex": [
       "A data.frame: 6 × 76\n",
       "\\begin{tabular}{r|lllllllllllllllllllll}\n",
       "  & Div & Date & HomeTeam & AwayTeam & FTHG & FTAG & FTR & HTHG & HTAG & HTR & ⋯ & BbMxAHH & BbAvAHH & BbMxAHA & BbAvAHA & PSH & PSD & PSA & PSCH & PSCD & PSCA\\\\\n",
       "  & <chr> & <chr> & <chr> & <chr> & <int> & <int> & <chr> & <int> & <int> & <chr> & ⋯ & <dbl> & <dbl> & <dbl> & <dbl> & <dbl> & <dbl> & <dbl> & <dbl> & <dbl> & <dbl>\\\\\n",
       "\\hline\n",
       "\t1 & I1 & 2009-08-22 & Bologna  & Fiorentina & 1 & 1 & D & 1 & 0 & H & ⋯ & 2.57 & 2.38 & 1.60 & 1.54 & NA & NA & NA & NA & NA & NA\\\\\n",
       "\t2 & I1 & 2009-08-22 & Siena    & Milan      & 1 & 2 & A & 1 & 1 & D & ⋯ & 1.91 & 1.85 & 2.08 & 2.02 & NA & NA & NA & NA & NA & NA\\\\\n",
       "\t3 & I1 & 2009-08-23 & Catania  & Sampdoria  & 1 & 2 & A & 1 & 1 & D & ⋯ & 1.83 & 1.76 & 2.12 & 2.04 & NA & NA & NA & NA & NA & NA\\\\\n",
       "\t4 & I1 & 2009-08-23 & Genoa    & Roma       & 3 & 2 & H & 0 & 0 & D & ⋯ & 1.75 & 1.67 & 2.30 & 2.13 & NA & NA & NA & NA & NA & NA\\\\\n",
       "\t5 & I1 & 2009-08-23 & Inter    & Bari       & 1 & 1 & D & 0 & 0 & D & ⋯ & 1.84 & 1.79 & 2.15 & 2.05 & NA & NA & NA & NA & NA & NA\\\\\n",
       "\t6 & I1 & 2009-08-23 & Juventus & Chievo     & 1 & 0 & H & 1 & 0 & H & ⋯ & 2.03 & 1.96 & 1.92 & 1.88 & NA & NA & NA & NA & NA & NA\\\\\n",
       "\\end{tabular}\n"
      ],
      "text/markdown": [
       "\n",
       "A data.frame: 6 × 76\n",
       "\n",
       "| <!--/--> | Div &lt;chr&gt; | Date &lt;chr&gt; | HomeTeam &lt;chr&gt; | AwayTeam &lt;chr&gt; | FTHG &lt;int&gt; | FTAG &lt;int&gt; | FTR &lt;chr&gt; | HTHG &lt;int&gt; | HTAG &lt;int&gt; | HTR &lt;chr&gt; | ⋯ ⋯ | BbMxAHH &lt;dbl&gt; | BbAvAHH &lt;dbl&gt; | BbMxAHA &lt;dbl&gt; | BbAvAHA &lt;dbl&gt; | PSH &lt;dbl&gt; | PSD &lt;dbl&gt; | PSA &lt;dbl&gt; | PSCH &lt;dbl&gt; | PSCD &lt;dbl&gt; | PSCA &lt;dbl&gt; |\n",
       "|---|---|---|---|---|---|---|---|---|---|---|---|---|---|---|---|---|---|---|---|---|---|\n",
       "| 1 | I1 | 2009-08-22 | Bologna  | Fiorentina | 1 | 1 | D | 1 | 0 | H | ⋯ | 2.57 | 2.38 | 1.60 | 1.54 | NA | NA | NA | NA | NA | NA |\n",
       "| 2 | I1 | 2009-08-22 | Siena    | Milan      | 1 | 2 | A | 1 | 1 | D | ⋯ | 1.91 | 1.85 | 2.08 | 2.02 | NA | NA | NA | NA | NA | NA |\n",
       "| 3 | I1 | 2009-08-23 | Catania  | Sampdoria  | 1 | 2 | A | 1 | 1 | D | ⋯ | 1.83 | 1.76 | 2.12 | 2.04 | NA | NA | NA | NA | NA | NA |\n",
       "| 4 | I1 | 2009-08-23 | Genoa    | Roma       | 3 | 2 | H | 0 | 0 | D | ⋯ | 1.75 | 1.67 | 2.30 | 2.13 | NA | NA | NA | NA | NA | NA |\n",
       "| 5 | I1 | 2009-08-23 | Inter    | Bari       | 1 | 1 | D | 0 | 0 | D | ⋯ | 1.84 | 1.79 | 2.15 | 2.05 | NA | NA | NA | NA | NA | NA |\n",
       "| 6 | I1 | 2009-08-23 | Juventus | Chievo     | 1 | 0 | H | 1 | 0 | H | ⋯ | 2.03 | 1.96 | 1.92 | 1.88 | NA | NA | NA | NA | NA | NA |\n",
       "\n"
      ],
      "text/plain": [
       "  Div Date       HomeTeam AwayTeam   FTHG FTAG FTR HTHG HTAG HTR ⋯ BbMxAHH\n",
       "1 I1  2009-08-22 Bologna  Fiorentina 1    1    D   1    0    H   ⋯ 2.57   \n",
       "2 I1  2009-08-22 Siena    Milan      1    2    A   1    1    D   ⋯ 1.91   \n",
       "3 I1  2009-08-23 Catania  Sampdoria  1    2    A   1    1    D   ⋯ 1.83   \n",
       "4 I1  2009-08-23 Genoa    Roma       3    2    H   0    0    D   ⋯ 1.75   \n",
       "5 I1  2009-08-23 Inter    Bari       1    1    D   0    0    D   ⋯ 1.84   \n",
       "6 I1  2009-08-23 Juventus Chievo     1    0    H   1    0    H   ⋯ 2.03   \n",
       "  BbAvAHH BbMxAHA BbAvAHA PSH PSD PSA PSCH PSCD PSCA\n",
       "1 2.38    1.60    1.54    NA  NA  NA  NA   NA   NA  \n",
       "2 1.85    2.08    2.02    NA  NA  NA  NA   NA   NA  \n",
       "3 1.76    2.12    2.04    NA  NA  NA  NA   NA   NA  \n",
       "4 1.67    2.30    2.13    NA  NA  NA  NA   NA   NA  \n",
       "5 1.79    2.15    2.05    NA  NA  NA  NA   NA   NA  \n",
       "6 1.96    1.92    1.88    NA  NA  NA  NA   NA   NA  "
      ]
     },
     "metadata": {},
     "output_type": "display_data"
    }
   ],
   "source": [
    "head(Dataset)"
   ]
  },
  {
   "cell_type": "markdown",
   "id": "ea545d6e",
   "metadata": {},
   "source": [
    "# Data Exploration"
   ]
  },
  {
   "cell_type": "markdown",
   "id": "fb1db975",
   "metadata": {},
   "source": [
    "Many attributes of this dataset refer to games bet values from several brands. Part of them are empty cells. Considering that these attributes are not part of this project's scope, these columns have been dropped."
   ]
  },
  {
   "cell_type": "code",
   "execution_count": 6,
   "id": "051bab6e",
   "metadata": {
    "execution": {
     "iopub.execute_input": "2023-04-25T20:26:57.066041Z",
     "iopub.status.busy": "2023-04-25T20:26:57.064694Z",
     "iopub.status.idle": "2023-04-25T20:26:57.144457Z"
    }
   },
   "outputs": [
    {
     "data": {
      "text/html": [
       "<table class=\"dataframe\">\n",
       "<caption>A data.frame: 1 × 9</caption>\n",
       "<thead>\n",
       "\t<tr><th scope=col>rows</th><th scope=col>columns</th><th scope=col>discrete_columns</th><th scope=col>continuous_columns</th><th scope=col>all_missing_columns</th><th scope=col>total_missing_values</th><th scope=col>complete_rows</th><th scope=col>total_observations</th><th scope=col>memory_usage</th></tr>\n",
       "\t<tr><th scope=col>&lt;int&gt;</th><th scope=col>&lt;int&gt;</th><th scope=col>&lt;int&gt;</th><th scope=col>&lt;int&gt;</th><th scope=col>&lt;int&gt;</th><th scope=col>&lt;int&gt;</th><th scope=col>&lt;int&gt;</th><th scope=col>&lt;int&gt;</th><th scope=col>&lt;dbl&gt;</th></tr>\n",
       "</thead>\n",
       "<tbody>\n",
       "\t<tr><td>3805</td><td>76</td><td>6</td><td>70</td><td>0</td><td>36088</td><td>0</td><td>289180</td><td>2105424</td></tr>\n",
       "</tbody>\n",
       "</table>\n"
      ],
      "text/latex": [
       "A data.frame: 1 × 9\n",
       "\\begin{tabular}{lllllllll}\n",
       " rows & columns & discrete\\_columns & continuous\\_columns & all\\_missing\\_columns & total\\_missing\\_values & complete\\_rows & total\\_observations & memory\\_usage\\\\\n",
       " <int> & <int> & <int> & <int> & <int> & <int> & <int> & <int> & <dbl>\\\\\n",
       "\\hline\n",
       "\t 3805 & 76 & 6 & 70 & 0 & 36088 & 0 & 289180 & 2105424\\\\\n",
       "\\end{tabular}\n"
      ],
      "text/markdown": [
       "\n",
       "A data.frame: 1 × 9\n",
       "\n",
       "| rows &lt;int&gt; | columns &lt;int&gt; | discrete_columns &lt;int&gt; | continuous_columns &lt;int&gt; | all_missing_columns &lt;int&gt; | total_missing_values &lt;int&gt; | complete_rows &lt;int&gt; | total_observations &lt;int&gt; | memory_usage &lt;dbl&gt; |\n",
       "|---|---|---|---|---|---|---|---|---|\n",
       "| 3805 | 76 | 6 | 70 | 0 | 36088 | 0 | 289180 | 2105424 |\n",
       "\n"
      ],
      "text/plain": [
       "  rows columns discrete_columns continuous_columns all_missing_columns\n",
       "1 3805 76      6                70                 0                  \n",
       "  total_missing_values complete_rows total_observations memory_usage\n",
       "1 36088                0             289180             2105424     "
      ]
     },
     "metadata": {},
     "output_type": "display_data"
    }
   ],
   "source": [
    "introduce(Dataset)"
   ]
  },
  {
   "cell_type": "code",
   "execution_count": 7,
   "id": "855a84b9",
   "metadata": {
    "execution": {
     "iopub.execute_input": "2023-04-25T20:26:57.148607Z",
     "iopub.status.busy": "2023-04-25T20:26:57.147275Z",
     "iopub.status.idle": "2023-04-25T20:26:57.221219Z"
    }
   },
   "outputs": [
    {
     "name": "stdout",
     "output_type": "stream",
     "text": [
      "'data.frame':\t3805 obs. of  76 variables:\n",
      " $ Div       : chr  \"I1\" \"I1\" \"I1\" \"I1\" ...\n",
      " $ Date      : chr  \"2009-08-22\" \"2009-08-22\" \"2009-08-23\" \"2009-08-23\" ...\n",
      " $ HomeTeam  : chr  \"Bologna\" \"Siena\" \"Catania\" \"Genoa\" ...\n",
      " $ AwayTeam  : chr  \"Fiorentina\" \"Milan\" \"Sampdoria\" \"Roma\" ...\n",
      " $ FTHG      : int  1 1 1 3 1 1 1 0 2 2 ...\n",
      " $ FTAG      : int  1 2 2 2 1 0 0 0 1 2 ...\n",
      " $ FTR       : chr  \"D\" \"A\" \"A\" \"H\" ...\n",
      " $ HTHG      : int  1 1 1 0 0 1 1 0 1 1 ...\n",
      " $ HTAG      : int  0 1 1 0 0 0 0 0 0 1 ...\n",
      " $ HTR       : chr  \"H\" \"D\" \"D\" \"D\" ...\n",
      " $ HS        : int  6 15 8 14 20 14 12 21 9 14 ...\n",
      " $ AS        : int  17 13 8 11 13 6 15 10 15 13 ...\n",
      " $ HST       : int  4 4 4 7 3 2 3 5 4 6 ...\n",
      " $ AST       : int  5 5 4 6 4 0 4 3 4 5 ...\n",
      " $ HF        : int  17 22 29 20 20 15 21 16 20 15 ...\n",
      " $ AF        : int  20 11 13 13 14 14 17 13 10 19 ...\n",
      " $ HC        : int  4 5 11 8 10 9 3 4 4 7 ...\n",
      " $ AC        : int  9 8 4 5 1 2 9 5 10 3 ...\n",
      " $ HY        : int  1 2 4 5 3 3 3 1 4 3 ...\n",
      " $ AY        : int  1 1 2 2 2 2 3 1 2 3 ...\n",
      " $ HR        : int  0 0 1 0 0 0 0 0 0 0 ...\n",
      " $ AR        : int  0 0 0 0 0 0 0 0 0 0 ...\n",
      " $ B365H     : num  3.3 3.75 2.5 2.4 1.2 1.29 1.83 2.38 2.15 1.8 ...\n",
      " $ B365D     : num  3.25 3.25 3.2 3.2 6 5.25 3.4 3.1 3.25 3.4 ...\n",
      " $ B365A     : num  2.2 2.05 2.88 3 15 11 4.5 3.2 3.5 4.75 ...\n",
      " $ BWH       : num  3.2 4.15 2.4 2.5 1.2 1.3 1.8 2.25 2.15 1.7 ...\n",
      " $ BWD       : num  3 3.15 3 3 5.5 4.55 3.2 2.9 3 3.3 ...\n",
      " $ BWA       : num  2.25 1.85 2.85 2.7 12 8.75 4.3 3.2 3.3 4.7 ...\n",
      " $ GBH       : num  3.4 3.75 2.5 2.4 1.22 1.3 1.8 2.3 2.1 1.8 ...\n",
      " $ GBD       : num  3.1 3.2 3.1 3.2 5.75 5 3.3 3.1 3.2 3.3 ...\n",
      " $ GBA       : num  2.15 2 2.8 2.9 12 9 4.5 3.1 3.5 4.5 ...\n",
      " $ IWH       : num  3.1 3.7 2.35 2.5 1.2 1.25 1.75 2.4 2 1.75 ...\n",
      " $ IWD       : num  3.1 3.2 3.05 3.1 5.5 5 3.4 3 3.2 3.4 ...\n",
      " $ IWA       : num  2.3 2 3.05 2.8 14 12 4.8 3.05 3.8 4.8 ...\n",
      " $ LBH       : num  2.88 3.75 2.38 2.5 1.2 1.3 1.83 2.2 2.2 1.73 ...\n",
      " $ LBD       : num  3 3 3.2 3 5 4.2 3 3 3.2 3.2 ...\n",
      " $ LBA       : num  2.25 1.91 2.6 2.6 11 9 4 3 2.8 4.33 ...\n",
      " $ SBH       : num  3.1 3.8 2.4 2.45 1.2 1.25 1.8 2.3 2.2 1.8 ...\n",
      " $ SBD       : num  3.1 3.2 3.1 3.1 5.5 5 3.25 3 3.1 3.25 ...\n",
      " $ SBA       : num  2.2 1.9 2.75 2.7 12 10 4.2 3 3.1 4.2 ...\n",
      " $ WHH       : num  3 3.75 2.5 2.3 1.2 1.25 1.8 2.25 2.1 1.73 ...\n",
      " $ WHD       : num  3.1 3 2.9 3 5 4.5 3.1 3 3.1 3.2 ...\n",
      " $ WHA       : num  2.15 1.91 2.62 2.8 11 10 4 2.88 3.1 4.33 ...\n",
      " $ SJH       : num  3.5 4 2.5 2.4 1.22 1.29 1.91 2.4 2.25 1.8 ...\n",
      " $ SJD       : num  3 3.2 3 3.2 6 5 3.2 3.1 3.2 3.4 ...\n",
      " $ SJA       : num  2.25 2 3 3 13 11 4.33 3.1 3.25 4.75 ...\n",
      " $ VCH       : num  3.25 3.5 2.4 2.25 1.2 1.25 1.75 2.25 2 1.7 ...\n",
      " $ VCD       : num  3.2 3.2 3.2 3.2 5.5 5 3.3 3.2 3.1 3.4 ...\n",
      " $ VCA       : num  2.1 2 2.7 2.9 12 10 4.5 3 3.5 4.5 ...\n",
      " $ BSH       : num  3.1 4 2.6 2.5 1.25 1.25 1.8 2.3 2.25 1.83 ...\n",
      " $ BSD       : num  3.2 3.2 3 3.1 5.5 5 3.25 3.1 3.2 3.25 ...\n",
      " $ BSA       : num  2.2 1.91 2.7 2.75 10 11 4.33 3 3 4.2 ...\n",
      " $ Bb1X2     : int  35 35 34 34 34 34 34 35 35 34 ...\n",
      " $ BbMxH     : num  3.73 4.4 2.68 2.5 1.25 1.32 1.91 2.48 2.3 1.83 ...\n",
      " $ BbAvH     : num  3.26 3.9 2.5 2.42 1.22 1.28 1.81 2.34 2.17 1.78 ...\n",
      " $ BbMxD     : num  3.32 3.38 3.25 3.27 6.38 5.59 3.48 3.25 3.38 3.53 ...\n",
      " $ BbAvD     : num  3.13 3.19 3.08 3.11 5.65 4.9 3.27 3.08 3.16 3.31 ...\n",
      " $ BbMxA     : num  2.35 2.05 3.05 3.26 21.5 14 5.04 3.31 3.71 5.5 ...\n",
      " $ BbAvA     : num  2.22 1.97 2.84 2.92 13.25 ...\n",
      " $ BbOU      : int  30 30 29 28 29 28 28 29 29 28 ...\n",
      " $ BbMx.2.5  : num  2.2 2.18 2.31 2.01 1.85 1.88 2.1 2.22 2.14 2.14 ...\n",
      " $ BbAv.2.5  : num  2.03 2.04 2.12 1.94 1.75 1.81 1.99 2.1 2.03 2.01 ...\n",
      " $ BbMx.2.5.1: num  1.78 1.8 1.7 1.94 2.15 2.06 1.86 1.79 1.86 1.84 ...\n",
      " $ BbAv.2.5.1: num  1.72 1.73 1.66 1.8 2 1.95 1.78 1.68 1.73 1.76 ...\n",
      " $ BbAH      : int  19 19 17 17 17 18 17 17 17 17 ...\n",
      " $ BbAHh     : num  0 0.5 0 0 -1.5 -1.5 0 0 0 0 ...\n",
      " $ BbMxAHH   : num  2.57 1.91 1.83 1.75 1.84 2.03 1.33 1.75 1.6 1.36 ...\n",
      " $ BbAvAHH   : num  2.38 1.85 1.76 1.67 1.79 1.96 1.3 1.65 1.54 1.28 ...\n",
      " $ BbMxAHA   : num  1.6 2.08 2.12 2.3 2.15 1.92 3.53 2.28 2.56 3.92 ...\n",
      " $ BbAvAHA   : num  1.54 2.02 2.04 2.13 2.05 1.88 3.22 2.14 2.35 3.39 ...\n",
      " $ PSH       : num  NA NA NA NA NA NA NA NA NA NA ...\n",
      " $ PSD       : num  NA NA NA NA NA NA NA NA NA NA ...\n",
      " $ PSA       : num  NA NA NA NA NA NA NA NA NA NA ...\n",
      " $ PSCH      : num  NA NA NA NA NA NA NA NA NA NA ...\n",
      " $ PSCD      : num  NA NA NA NA NA NA NA NA NA NA ...\n",
      " $ PSCA      : num  NA NA NA NA NA NA NA NA NA NA ...\n"
     ]
    }
   ],
   "source": [
    "str(Dataset)"
   ]
  },
  {
   "cell_type": "code",
   "execution_count": 8,
   "id": "5eff671d",
   "metadata": {
    "execution": {
     "iopub.execute_input": "2023-04-25T20:26:57.225202Z",
     "iopub.status.busy": "2023-04-25T20:26:57.223843Z",
     "iopub.status.idle": "2023-04-25T20:26:57.238766Z"
    }
   },
   "outputs": [],
   "source": [
    "# removing all the columns related to Bet companies which are not relevant for the scope of this project\n",
    "Dataset = subset(Dataset, select = -c(23:76) )"
   ]
  },
  {
   "cell_type": "code",
   "execution_count": 9,
   "id": "3eef065c",
   "metadata": {
    "execution": {
     "iopub.execute_input": "2023-04-25T20:26:57.242690Z",
     "iopub.status.busy": "2023-04-25T20:26:57.241313Z",
     "iopub.status.idle": "2023-04-25T20:26:57.278824Z"
    }
   },
   "outputs": [
    {
     "data": {
      "text/html": [
       "<table class=\"dataframe\">\n",
       "<caption>A data.frame: 6 × 22</caption>\n",
       "<thead>\n",
       "\t<tr><th></th><th scope=col>Div</th><th scope=col>Date</th><th scope=col>HomeTeam</th><th scope=col>AwayTeam</th><th scope=col>FTHG</th><th scope=col>FTAG</th><th scope=col>FTR</th><th scope=col>HTHG</th><th scope=col>HTAG</th><th scope=col>HTR</th><th scope=col>⋯</th><th scope=col>HST</th><th scope=col>AST</th><th scope=col>HF</th><th scope=col>AF</th><th scope=col>HC</th><th scope=col>AC</th><th scope=col>HY</th><th scope=col>AY</th><th scope=col>HR</th><th scope=col>AR</th></tr>\n",
       "\t<tr><th></th><th scope=col>&lt;chr&gt;</th><th scope=col>&lt;chr&gt;</th><th scope=col>&lt;chr&gt;</th><th scope=col>&lt;chr&gt;</th><th scope=col>&lt;int&gt;</th><th scope=col>&lt;int&gt;</th><th scope=col>&lt;chr&gt;</th><th scope=col>&lt;int&gt;</th><th scope=col>&lt;int&gt;</th><th scope=col>&lt;chr&gt;</th><th scope=col>⋯</th><th scope=col>&lt;int&gt;</th><th scope=col>&lt;int&gt;</th><th scope=col>&lt;int&gt;</th><th scope=col>&lt;int&gt;</th><th scope=col>&lt;int&gt;</th><th scope=col>&lt;int&gt;</th><th scope=col>&lt;int&gt;</th><th scope=col>&lt;int&gt;</th><th scope=col>&lt;int&gt;</th><th scope=col>&lt;int&gt;</th></tr>\n",
       "</thead>\n",
       "<tbody>\n",
       "\t<tr><th scope=row>1</th><td>I1</td><td>2009-08-22</td><td>Bologna </td><td>Fiorentina</td><td>1</td><td>1</td><td>D</td><td>1</td><td>0</td><td>H</td><td>⋯</td><td>4</td><td>5</td><td>17</td><td>20</td><td> 4</td><td>9</td><td>1</td><td>1</td><td>0</td><td>0</td></tr>\n",
       "\t<tr><th scope=row>2</th><td>I1</td><td>2009-08-22</td><td>Siena   </td><td>Milan     </td><td>1</td><td>2</td><td>A</td><td>1</td><td>1</td><td>D</td><td>⋯</td><td>4</td><td>5</td><td>22</td><td>11</td><td> 5</td><td>8</td><td>2</td><td>1</td><td>0</td><td>0</td></tr>\n",
       "\t<tr><th scope=row>3</th><td>I1</td><td>2009-08-23</td><td>Catania </td><td>Sampdoria </td><td>1</td><td>2</td><td>A</td><td>1</td><td>1</td><td>D</td><td>⋯</td><td>4</td><td>4</td><td>29</td><td>13</td><td>11</td><td>4</td><td>4</td><td>2</td><td>1</td><td>0</td></tr>\n",
       "\t<tr><th scope=row>4</th><td>I1</td><td>2009-08-23</td><td>Genoa   </td><td>Roma      </td><td>3</td><td>2</td><td>H</td><td>0</td><td>0</td><td>D</td><td>⋯</td><td>7</td><td>6</td><td>20</td><td>13</td><td> 8</td><td>5</td><td>5</td><td>2</td><td>0</td><td>0</td></tr>\n",
       "\t<tr><th scope=row>5</th><td>I1</td><td>2009-08-23</td><td>Inter   </td><td>Bari      </td><td>1</td><td>1</td><td>D</td><td>0</td><td>0</td><td>D</td><td>⋯</td><td>3</td><td>4</td><td>20</td><td>14</td><td>10</td><td>1</td><td>3</td><td>2</td><td>0</td><td>0</td></tr>\n",
       "\t<tr><th scope=row>6</th><td>I1</td><td>2009-08-23</td><td>Juventus</td><td>Chievo    </td><td>1</td><td>0</td><td>H</td><td>1</td><td>0</td><td>H</td><td>⋯</td><td>2</td><td>0</td><td>15</td><td>14</td><td> 9</td><td>2</td><td>3</td><td>2</td><td>0</td><td>0</td></tr>\n",
       "</tbody>\n",
       "</table>\n"
      ],
      "text/latex": [
       "A data.frame: 6 × 22\n",
       "\\begin{tabular}{r|lllllllllllllllllllll}\n",
       "  & Div & Date & HomeTeam & AwayTeam & FTHG & FTAG & FTR & HTHG & HTAG & HTR & ⋯ & HST & AST & HF & AF & HC & AC & HY & AY & HR & AR\\\\\n",
       "  & <chr> & <chr> & <chr> & <chr> & <int> & <int> & <chr> & <int> & <int> & <chr> & ⋯ & <int> & <int> & <int> & <int> & <int> & <int> & <int> & <int> & <int> & <int>\\\\\n",
       "\\hline\n",
       "\t1 & I1 & 2009-08-22 & Bologna  & Fiorentina & 1 & 1 & D & 1 & 0 & H & ⋯ & 4 & 5 & 17 & 20 &  4 & 9 & 1 & 1 & 0 & 0\\\\\n",
       "\t2 & I1 & 2009-08-22 & Siena    & Milan      & 1 & 2 & A & 1 & 1 & D & ⋯ & 4 & 5 & 22 & 11 &  5 & 8 & 2 & 1 & 0 & 0\\\\\n",
       "\t3 & I1 & 2009-08-23 & Catania  & Sampdoria  & 1 & 2 & A & 1 & 1 & D & ⋯ & 4 & 4 & 29 & 13 & 11 & 4 & 4 & 2 & 1 & 0\\\\\n",
       "\t4 & I1 & 2009-08-23 & Genoa    & Roma       & 3 & 2 & H & 0 & 0 & D & ⋯ & 7 & 6 & 20 & 13 &  8 & 5 & 5 & 2 & 0 & 0\\\\\n",
       "\t5 & I1 & 2009-08-23 & Inter    & Bari       & 1 & 1 & D & 0 & 0 & D & ⋯ & 3 & 4 & 20 & 14 & 10 & 1 & 3 & 2 & 0 & 0\\\\\n",
       "\t6 & I1 & 2009-08-23 & Juventus & Chievo     & 1 & 0 & H & 1 & 0 & H & ⋯ & 2 & 0 & 15 & 14 &  9 & 2 & 3 & 2 & 0 & 0\\\\\n",
       "\\end{tabular}\n"
      ],
      "text/markdown": [
       "\n",
       "A data.frame: 6 × 22\n",
       "\n",
       "| <!--/--> | Div &lt;chr&gt; | Date &lt;chr&gt; | HomeTeam &lt;chr&gt; | AwayTeam &lt;chr&gt; | FTHG &lt;int&gt; | FTAG &lt;int&gt; | FTR &lt;chr&gt; | HTHG &lt;int&gt; | HTAG &lt;int&gt; | HTR &lt;chr&gt; | ⋯ ⋯ | HST &lt;int&gt; | AST &lt;int&gt; | HF &lt;int&gt; | AF &lt;int&gt; | HC &lt;int&gt; | AC &lt;int&gt; | HY &lt;int&gt; | AY &lt;int&gt; | HR &lt;int&gt; | AR &lt;int&gt; |\n",
       "|---|---|---|---|---|---|---|---|---|---|---|---|---|---|---|---|---|---|---|---|---|---|\n",
       "| 1 | I1 | 2009-08-22 | Bologna  | Fiorentina | 1 | 1 | D | 1 | 0 | H | ⋯ | 4 | 5 | 17 | 20 |  4 | 9 | 1 | 1 | 0 | 0 |\n",
       "| 2 | I1 | 2009-08-22 | Siena    | Milan      | 1 | 2 | A | 1 | 1 | D | ⋯ | 4 | 5 | 22 | 11 |  5 | 8 | 2 | 1 | 0 | 0 |\n",
       "| 3 | I1 | 2009-08-23 | Catania  | Sampdoria  | 1 | 2 | A | 1 | 1 | D | ⋯ | 4 | 4 | 29 | 13 | 11 | 4 | 4 | 2 | 1 | 0 |\n",
       "| 4 | I1 | 2009-08-23 | Genoa    | Roma       | 3 | 2 | H | 0 | 0 | D | ⋯ | 7 | 6 | 20 | 13 |  8 | 5 | 5 | 2 | 0 | 0 |\n",
       "| 5 | I1 | 2009-08-23 | Inter    | Bari       | 1 | 1 | D | 0 | 0 | D | ⋯ | 3 | 4 | 20 | 14 | 10 | 1 | 3 | 2 | 0 | 0 |\n",
       "| 6 | I1 | 2009-08-23 | Juventus | Chievo     | 1 | 0 | H | 1 | 0 | H | ⋯ | 2 | 0 | 15 | 14 |  9 | 2 | 3 | 2 | 0 | 0 |\n",
       "\n"
      ],
      "text/plain": [
       "  Div Date       HomeTeam AwayTeam   FTHG FTAG FTR HTHG HTAG HTR ⋯ HST AST HF\n",
       "1 I1  2009-08-22 Bologna  Fiorentina 1    1    D   1    0    H   ⋯ 4   5   17\n",
       "2 I1  2009-08-22 Siena    Milan      1    2    A   1    1    D   ⋯ 4   5   22\n",
       "3 I1  2009-08-23 Catania  Sampdoria  1    2    A   1    1    D   ⋯ 4   4   29\n",
       "4 I1  2009-08-23 Genoa    Roma       3    2    H   0    0    D   ⋯ 7   6   20\n",
       "5 I1  2009-08-23 Inter    Bari       1    1    D   0    0    D   ⋯ 3   4   20\n",
       "6 I1  2009-08-23 Juventus Chievo     1    0    H   1    0    H   ⋯ 2   0   15\n",
       "  AF HC AC HY AY HR AR\n",
       "1 20  4 9  1  1  0  0 \n",
       "2 11  5 8  2  1  0  0 \n",
       "3 13 11 4  4  2  1  0 \n",
       "4 13  8 5  5  2  0  0 \n",
       "5 14 10 1  3  2  0  0 \n",
       "6 14  9 2  3  2  0  0 "
      ]
     },
     "metadata": {},
     "output_type": "display_data"
    }
   ],
   "source": [
    "head(Dataset)"
   ]
  },
  {
   "cell_type": "code",
   "execution_count": 10,
   "id": "c3889292",
   "metadata": {
    "execution": {
     "iopub.execute_input": "2023-04-25T20:26:57.282928Z",
     "iopub.status.busy": "2023-04-25T20:26:57.281358Z",
     "iopub.status.idle": "2023-04-25T20:26:57.299369Z"
    }
   },
   "outputs": [
    {
     "data": {
      "text/html": [
       "8"
      ],
      "text/latex": [
       "8"
      ],
      "text/markdown": [
       "8"
      ],
      "text/plain": [
       "[1] 8"
      ]
     },
     "metadata": {},
     "output_type": "display_data"
    }
   ],
   "source": [
    "#looking for missing values\n",
    "sum(!complete.cases(Dataset))"
   ]
  },
  {
   "cell_type": "code",
   "execution_count": 11,
   "id": "3282b584",
   "metadata": {
    "execution": {
     "iopub.execute_input": "2023-04-25T20:26:57.303175Z",
     "iopub.status.busy": "2023-04-25T20:26:57.301852Z",
     "iopub.status.idle": "2023-04-25T20:26:58.120882Z"
    }
   },
   "outputs": [
    {
     "data": {
      "image/png": "[encoded data removed]",
      "text/plain": [
       "plot without title"
      ]
     },
     "metadata": {
      "image/png": {
       "height": 420,
       "width": 420
      }
     },
     "output_type": "display_data"
    }
   ],
   "source": [
    "plot_missing(Dataset)"
   ]
  },
  {
   "cell_type": "code",
   "execution_count": 12,
   "id": "bbe7bdb7",
   "metadata": {
    "execution": {
     "iopub.execute_input": "2023-04-25T20:26:58.124599Z",
     "iopub.status.busy": "2023-04-25T20:26:58.123294Z",
     "iopub.status.idle": "2023-04-25T20:26:58.138506Z"
    }
   },
   "outputs": [],
   "source": [
    "#isolating the missing values\n",
    "new_DF <- Dataset[rowSums(is.na(Dataset)) > 0,]\n"
   ]
  },
  {
   "cell_type": "code",
   "execution_count": 13,
   "id": "44f4e60d",
   "metadata": {
    "execution": {
     "iopub.execute_input": "2023-04-25T20:26:58.142266Z",
     "iopub.status.busy": "2023-04-25T20:26:58.140931Z",
     "iopub.status.idle": "2023-04-25T20:26:58.191612Z"
    }
   },
   "outputs": [
    {
     "data": {
      "text/html": [
       "<table class=\"dataframe\">\n",
       "<caption>A data.frame: 8 × 22</caption>\n",
       "<thead>\n",
       "\t<tr><th></th><th scope=col>Div</th><th scope=col>Date</th><th scope=col>HomeTeam</th><th scope=col>AwayTeam</th><th scope=col>FTHG</th><th scope=col>FTAG</th><th scope=col>FTR</th><th scope=col>HTHG</th><th scope=col>HTAG</th><th scope=col>HTR</th><th scope=col>⋯</th><th scope=col>HST</th><th scope=col>AST</th><th scope=col>HF</th><th scope=col>AF</th><th scope=col>HC</th><th scope=col>AC</th><th scope=col>HY</th><th scope=col>AY</th><th scope=col>HR</th><th scope=col>AR</th></tr>\n",
       "\t<tr><th></th><th scope=col>&lt;chr&gt;</th><th scope=col>&lt;chr&gt;</th><th scope=col>&lt;chr&gt;</th><th scope=col>&lt;chr&gt;</th><th scope=col>&lt;int&gt;</th><th scope=col>&lt;int&gt;</th><th scope=col>&lt;chr&gt;</th><th scope=col>&lt;int&gt;</th><th scope=col>&lt;int&gt;</th><th scope=col>&lt;chr&gt;</th><th scope=col>⋯</th><th scope=col>&lt;int&gt;</th><th scope=col>&lt;int&gt;</th><th scope=col>&lt;int&gt;</th><th scope=col>&lt;int&gt;</th><th scope=col>&lt;int&gt;</th><th scope=col>&lt;int&gt;</th><th scope=col>&lt;int&gt;</th><th scope=col>&lt;int&gt;</th><th scope=col>&lt;int&gt;</th><th scope=col>&lt;int&gt;</th></tr>\n",
       "</thead>\n",
       "<tbody>\n",
       "\t<tr><th scope=row>1175</th><td>I1</td><td>23/09/12</td><td>Cagliari</td><td>Roma    </td><td> 0</td><td> 3</td><td>A</td><td>NA</td><td>NA</td><td> </td><td>⋯</td><td>NA</td><td>NA</td><td>NA</td><td>NA</td><td>NA</td><td>NA</td><td>NA</td><td>NA</td><td>NA</td><td>NA</td></tr>\n",
       "\t<tr><th scope=row>1521</th><td>  </td><td>        </td><td>        </td><td>        </td><td>NA</td><td>NA</td><td> </td><td>NA</td><td>NA</td><td> </td><td>⋯</td><td>NA</td><td>NA</td><td>NA</td><td>NA</td><td>NA</td><td>NA</td><td>NA</td><td>NA</td><td>NA</td><td>NA</td></tr>\n",
       "\t<tr><th scope=row>1522</th><td>  </td><td>        </td><td>        </td><td>        </td><td>NA</td><td>NA</td><td> </td><td>NA</td><td>NA</td><td> </td><td>⋯</td><td>NA</td><td>NA</td><td>NA</td><td>NA</td><td>NA</td><td>NA</td><td>NA</td><td>NA</td><td>NA</td><td>NA</td></tr>\n",
       "\t<tr><th scope=row>1523</th><td>  </td><td>        </td><td>        </td><td>        </td><td>NA</td><td>NA</td><td> </td><td>NA</td><td>NA</td><td> </td><td>⋯</td><td>NA</td><td>NA</td><td>NA</td><td>NA</td><td>NA</td><td>NA</td><td>NA</td><td>NA</td><td>NA</td><td>NA</td></tr>\n",
       "\t<tr><th scope=row>2151</th><td>I1</td><td>02/03/15</td><td>Roma    </td><td>Juventus</td><td> 1</td><td> 1</td><td>D</td><td> 0</td><td> 0</td><td>D</td><td>⋯</td><td> 3</td><td> 1</td><td>11</td><td>16</td><td> 1</td><td> 5</td><td>NA</td><td> 5</td><td> 1</td><td> 0</td></tr>\n",
       "\t<tr><th scope=row>2284</th><td>  </td><td>        </td><td>        </td><td>        </td><td>NA</td><td>NA</td><td> </td><td>NA</td><td>NA</td><td> </td><td>⋯</td><td>NA</td><td>NA</td><td>NA</td><td>NA</td><td>NA</td><td>NA</td><td>NA</td><td>NA</td><td>NA</td><td>NA</td></tr>\n",
       "\t<tr><th scope=row>2665</th><td>  </td><td>        </td><td>        </td><td>        </td><td>NA</td><td>NA</td><td> </td><td>NA</td><td>NA</td><td> </td><td>⋯</td><td>NA</td><td>NA</td><td>NA</td><td>NA</td><td>NA</td><td>NA</td><td>NA</td><td>NA</td><td>NA</td><td>NA</td></tr>\n",
       "\t<tr><th scope=row>2683</th><td>I1</td><td>28/08/16</td><td>Sassuolo</td><td>Pescara </td><td> 0</td><td> 3</td><td>A</td><td>NA</td><td>NA</td><td> </td><td>⋯</td><td> 3</td><td> 5</td><td>12</td><td>21</td><td> 2</td><td> 7</td><td> 2</td><td> 2</td><td> 0</td><td> 0</td></tr>\n",
       "</tbody>\n",
       "</table>\n"
      ],
      "text/latex": [
       "A data.frame: 8 × 22\n",
       "\\begin{tabular}{r|lllllllllllllllllllll}\n",
       "  & Div & Date & HomeTeam & AwayTeam & FTHG & FTAG & FTR & HTHG & HTAG & HTR & ⋯ & HST & AST & HF & AF & HC & AC & HY & AY & HR & AR\\\\\n",
       "  & <chr> & <chr> & <chr> & <chr> & <int> & <int> & <chr> & <int> & <int> & <chr> & ⋯ & <int> & <int> & <int> & <int> & <int> & <int> & <int> & <int> & <int> & <int>\\\\\n",
       "\\hline\n",
       "\t1175 & I1 & 23/09/12 & Cagliari & Roma     &  0 &  3 & A & NA & NA &   & ⋯ & NA & NA & NA & NA & NA & NA & NA & NA & NA & NA\\\\\n",
       "\t1521 &    &          &          &          & NA & NA &   & NA & NA &   & ⋯ & NA & NA & NA & NA & NA & NA & NA & NA & NA & NA\\\\\n",
       "\t1522 &    &          &          &          & NA & NA &   & NA & NA &   & ⋯ & NA & NA & NA & NA & NA & NA & NA & NA & NA & NA\\\\\n",
       "\t1523 &    &          &          &          & NA & NA &   & NA & NA &   & ⋯ & NA & NA & NA & NA & NA & NA & NA & NA & NA & NA\\\\\n",
       "\t2151 & I1 & 02/03/15 & Roma     & Juventus &  1 &  1 & D &  0 &  0 & D & ⋯ &  3 &  1 & 11 & 16 &  1 &  5 & NA &  5 &  1 &  0\\\\\n",
       "\t2284 &    &          &          &          & NA & NA &   & NA & NA &   & ⋯ & NA & NA & NA & NA & NA & NA & NA & NA & NA & NA\\\\\n",
       "\t2665 &    &          &          &          & NA & NA &   & NA & NA &   & ⋯ & NA & NA & NA & NA & NA & NA & NA & NA & NA & NA\\\\\n",
       "\t2683 & I1 & 28/08/16 & Sassuolo & Pescara  &  0 &  3 & A & NA & NA &   & ⋯ &  3 &  5 & 12 & 21 &  2 &  7 &  2 &  2 &  0 &  0\\\\\n",
       "\\end{tabular}\n"
      ],
      "text/markdown": [
       "\n",
       "A data.frame: 8 × 22\n",
       "\n",
       "| <!--/--> | Div &lt;chr&gt; | Date &lt;chr&gt; | HomeTeam &lt;chr&gt; | AwayTeam &lt;chr&gt; | FTHG &lt;int&gt; | FTAG &lt;int&gt; | FTR &lt;chr&gt; | HTHG &lt;int&gt; | HTAG &lt;int&gt; | HTR &lt;chr&gt; | ⋯ ⋯ | HST &lt;int&gt; | AST &lt;int&gt; | HF &lt;int&gt; | AF &lt;int&gt; | HC &lt;int&gt; | AC &lt;int&gt; | HY &lt;int&gt; | AY &lt;int&gt; | HR &lt;int&gt; | AR &lt;int&gt; |\n",
       "|---|---|---|---|---|---|---|---|---|---|---|---|---|---|---|---|---|---|---|---|---|---|\n",
       "| 1175 | I1 | 23/09/12 | Cagliari | Roma     |  0 |  3 | A | NA | NA | <!----> | ⋯ | NA | NA | NA | NA | NA | NA | NA | NA | NA | NA |\n",
       "| 1521 | <!----> | <!----> | <!----> | <!----> | NA | NA | <!----> | NA | NA | <!----> | ⋯ | NA | NA | NA | NA | NA | NA | NA | NA | NA | NA |\n",
       "| 1522 | <!----> | <!----> | <!----> | <!----> | NA | NA | <!----> | NA | NA | <!----> | ⋯ | NA | NA | NA | NA | NA | NA | NA | NA | NA | NA |\n",
       "| 1523 | <!----> | <!----> | <!----> | <!----> | NA | NA | <!----> | NA | NA | <!----> | ⋯ | NA | NA | NA | NA | NA | NA | NA | NA | NA | NA |\n",
       "| 2151 | I1 | 02/03/15 | Roma     | Juventus |  1 |  1 | D |  0 |  0 | D | ⋯ |  3 |  1 | 11 | 16 |  1 |  5 | NA |  5 |  1 |  0 |\n",
       "| 2284 | <!----> | <!----> | <!----> | <!----> | NA | NA | <!----> | NA | NA | <!----> | ⋯ | NA | NA | NA | NA | NA | NA | NA | NA | NA | NA |\n",
       "| 2665 | <!----> | <!----> | <!----> | <!----> | NA | NA | <!----> | NA | NA | <!----> | ⋯ | NA | NA | NA | NA | NA | NA | NA | NA | NA | NA |\n",
       "| 2683 | I1 | 28/08/16 | Sassuolo | Pescara  |  0 |  3 | A | NA | NA | <!----> | ⋯ |  3 |  5 | 12 | 21 |  2 |  7 |  2 |  2 |  0 |  0 |\n",
       "\n"
      ],
      "text/plain": [
       "     Div Date     HomeTeam AwayTeam FTHG FTAG FTR HTHG HTAG HTR ⋯ HST AST HF AF\n",
       "1175 I1  23/09/12 Cagliari Roma      0    3   A   NA   NA       ⋯ NA  NA  NA NA\n",
       "1521                                NA   NA       NA   NA       ⋯ NA  NA  NA NA\n",
       "1522                                NA   NA       NA   NA       ⋯ NA  NA  NA NA\n",
       "1523                                NA   NA       NA   NA       ⋯ NA  NA  NA NA\n",
       "2151 I1  02/03/15 Roma     Juventus  1    1   D    0    0   D   ⋯  3   1  11 16\n",
       "2284                                NA   NA       NA   NA       ⋯ NA  NA  NA NA\n",
       "2665                                NA   NA       NA   NA       ⋯ NA  NA  NA NA\n",
       "2683 I1  28/08/16 Sassuolo Pescara   0    3   A   NA   NA       ⋯  3   5  12 21\n",
       "     HC AC HY AY HR AR\n",
       "1175 NA NA NA NA NA NA\n",
       "1521 NA NA NA NA NA NA\n",
       "1522 NA NA NA NA NA NA\n",
       "1523 NA NA NA NA NA NA\n",
       "2151  1  5 NA  5  1  0\n",
       "2284 NA NA NA NA NA NA\n",
       "2665 NA NA NA NA NA NA\n",
       "2683  2  7  2  2  0  0"
      ]
     },
     "metadata": {},
     "output_type": "display_data"
    }
   ],
   "source": [
    "new_DF"
   ]
  },
  {
   "cell_type": "markdown",
   "id": "005b0291",
   "metadata": {
    "execution": {
     "iopub.execute_input": "2023-04-24T18:29:20.026640Z",
     "iopub.status.busy": "2023-04-24T18:29:20.024827Z",
     "iopub.status.idle": "2023-04-24T18:29:20.057821Z"
    }
   },
   "source": [
    "Using the R package “Data Explorer,” it has been found that the dataset has eight observations with missing values. At this stage, it has been decided to drop this group of observations. Indeed, considering that football is unpredictable, we can’t replace values with their average. And some of the rows were missing the teams who played the matches. In addition, all the columns related to Bet agencies have been dropped because they are not relevant to the final purpose of this study."
   ]
  },
  {
   "cell_type": "code",
   "execution_count": 14,
   "id": "f91bd899",
   "metadata": {
    "execution": {
     "iopub.execute_input": "2023-04-25T20:26:58.195571Z",
     "iopub.status.busy": "2023-04-25T20:26:58.194075Z",
     "iopub.status.idle": "2023-04-25T20:26:58.209142Z"
    }
   },
   "outputs": [],
   "source": [
    "# in this case we have opted to remove the rows with missing values\n",
    "Dataset=Dataset[-c(1175,1521:1523,  2151, 2284, 2665,2683), ]"
   ]
  },
  {
   "cell_type": "code",
   "execution_count": 15,
   "id": "79e68f56",
   "metadata": {
    "execution": {
     "iopub.execute_input": "2023-04-25T20:26:58.212965Z",
     "iopub.status.busy": "2023-04-25T20:26:58.211610Z",
     "iopub.status.idle": "2023-04-25T20:26:58.226313Z"
    }
   },
   "outputs": [],
   "source": [
    "# removing also the data that refer to the half time, not relevant for the scope of this project\n",
    "Dataset = subset(Dataset, select = -c(8:10) )"
   ]
  },
  {
   "cell_type": "code",
   "execution_count": 16,
   "id": "e4e6c6a6",
   "metadata": {
    "execution": {
     "iopub.execute_input": "2023-04-25T20:26:58.230137Z",
     "iopub.status.busy": "2023-04-25T20:26:58.228805Z",
     "iopub.status.idle": "2023-04-25T20:26:58.244566Z"
    }
   },
   "outputs": [
    {
     "data": {
      "text/html": [
       "3797"
      ],
      "text/latex": [
       "3797"
      ],
      "text/markdown": [
       "3797"
      ],
      "text/plain": [
       "[1] 3797"
      ]
     },
     "metadata": {},
     "output_type": "display_data"
    }
   ],
   "source": [
    "nrow(Dataset)"
   ]
  },
  {
   "cell_type": "code",
   "execution_count": 17,
   "id": "e0e8b347",
   "metadata": {
    "execution": {
     "iopub.execute_input": "2023-04-25T20:26:58.248431Z",
     "iopub.status.busy": "2023-04-25T20:26:58.247073Z",
     "iopub.status.idle": "2023-04-25T20:26:58.281155Z"
    }
   },
   "outputs": [
    {
     "data": {
      "text/html": [
       "<table class=\"dataframe\">\n",
       "<caption>A data.frame: 6 × 19</caption>\n",
       "<thead>\n",
       "\t<tr><th></th><th scope=col>Div</th><th scope=col>Date</th><th scope=col>HomeTeam</th><th scope=col>AwayTeam</th><th scope=col>FTHG</th><th scope=col>FTAG</th><th scope=col>FTR</th><th scope=col>HS</th><th scope=col>AS</th><th scope=col>HST</th><th scope=col>AST</th><th scope=col>HF</th><th scope=col>AF</th><th scope=col>HC</th><th scope=col>AC</th><th scope=col>HY</th><th scope=col>AY</th><th scope=col>HR</th><th scope=col>AR</th></tr>\n",
       "\t<tr><th></th><th scope=col>&lt;chr&gt;</th><th scope=col>&lt;chr&gt;</th><th scope=col>&lt;chr&gt;</th><th scope=col>&lt;chr&gt;</th><th scope=col>&lt;int&gt;</th><th scope=col>&lt;int&gt;</th><th scope=col>&lt;chr&gt;</th><th scope=col>&lt;int&gt;</th><th scope=col>&lt;int&gt;</th><th scope=col>&lt;int&gt;</th><th scope=col>&lt;int&gt;</th><th scope=col>&lt;int&gt;</th><th scope=col>&lt;int&gt;</th><th scope=col>&lt;int&gt;</th><th scope=col>&lt;int&gt;</th><th scope=col>&lt;int&gt;</th><th scope=col>&lt;int&gt;</th><th scope=col>&lt;int&gt;</th><th scope=col>&lt;int&gt;</th></tr>\n",
       "</thead>\n",
       "<tbody>\n",
       "\t<tr><th scope=row>1</th><td>I1</td><td>2009-08-22</td><td>Bologna </td><td>Fiorentina</td><td>1</td><td>1</td><td>D</td><td> 6</td><td>17</td><td>4</td><td>5</td><td>17</td><td>20</td><td> 4</td><td>9</td><td>1</td><td>1</td><td>0</td><td>0</td></tr>\n",
       "\t<tr><th scope=row>2</th><td>I1</td><td>2009-08-22</td><td>Siena   </td><td>Milan     </td><td>1</td><td>2</td><td>A</td><td>15</td><td>13</td><td>4</td><td>5</td><td>22</td><td>11</td><td> 5</td><td>8</td><td>2</td><td>1</td><td>0</td><td>0</td></tr>\n",
       "\t<tr><th scope=row>3</th><td>I1</td><td>2009-08-23</td><td>Catania </td><td>Sampdoria </td><td>1</td><td>2</td><td>A</td><td> 8</td><td> 8</td><td>4</td><td>4</td><td>29</td><td>13</td><td>11</td><td>4</td><td>4</td><td>2</td><td>1</td><td>0</td></tr>\n",
       "\t<tr><th scope=row>4</th><td>I1</td><td>2009-08-23</td><td>Genoa   </td><td>Roma      </td><td>3</td><td>2</td><td>H</td><td>14</td><td>11</td><td>7</td><td>6</td><td>20</td><td>13</td><td> 8</td><td>5</td><td>5</td><td>2</td><td>0</td><td>0</td></tr>\n",
       "\t<tr><th scope=row>5</th><td>I1</td><td>2009-08-23</td><td>Inter   </td><td>Bari      </td><td>1</td><td>1</td><td>D</td><td>20</td><td>13</td><td>3</td><td>4</td><td>20</td><td>14</td><td>10</td><td>1</td><td>3</td><td>2</td><td>0</td><td>0</td></tr>\n",
       "\t<tr><th scope=row>6</th><td>I1</td><td>2009-08-23</td><td>Juventus</td><td>Chievo    </td><td>1</td><td>0</td><td>H</td><td>14</td><td> 6</td><td>2</td><td>0</td><td>15</td><td>14</td><td> 9</td><td>2</td><td>3</td><td>2</td><td>0</td><td>0</td></tr>\n",
       "</tbody>\n",
       "</table>\n"
      ],
      "text/latex": [
       "A data.frame: 6 × 19\n",
       "\\begin{tabular}{r|lllllllllllllllllll}\n",
       "  & Div & Date & HomeTeam & AwayTeam & FTHG & FTAG & FTR & HS & AS & HST & AST & HF & AF & HC & AC & HY & AY & HR & AR\\\\\n",
       "  & <chr> & <chr> & <chr> & <chr> & <int> & <int> & <chr> & <int> & <int> & <int> & <int> & <int> & <int> & <int> & <int> & <int> & <int> & <int> & <int>\\\\\n",
       "\\hline\n",
       "\t1 & I1 & 2009-08-22 & Bologna  & Fiorentina & 1 & 1 & D &  6 & 17 & 4 & 5 & 17 & 20 &  4 & 9 & 1 & 1 & 0 & 0\\\\\n",
       "\t2 & I1 & 2009-08-22 & Siena    & Milan      & 1 & 2 & A & 15 & 13 & 4 & 5 & 22 & 11 &  5 & 8 & 2 & 1 & 0 & 0\\\\\n",
       "\t3 & I1 & 2009-08-23 & Catania  & Sampdoria  & 1 & 2 & A &  8 &  8 & 4 & 4 & 29 & 13 & 11 & 4 & 4 & 2 & 1 & 0\\\\\n",
       "\t4 & I1 & 2009-08-23 & Genoa    & Roma       & 3 & 2 & H & 14 & 11 & 7 & 6 & 20 & 13 &  8 & 5 & 5 & 2 & 0 & 0\\\\\n",
       "\t5 & I1 & 2009-08-23 & Inter    & Bari       & 1 & 1 & D & 20 & 13 & 3 & 4 & 20 & 14 & 10 & 1 & 3 & 2 & 0 & 0\\\\\n",
       "\t6 & I1 & 2009-08-23 & Juventus & Chievo     & 1 & 0 & H & 14 &  6 & 2 & 0 & 15 & 14 &  9 & 2 & 3 & 2 & 0 & 0\\\\\n",
       "\\end{tabular}\n"
      ],
      "text/markdown": [
       "\n",
       "A data.frame: 6 × 19\n",
       "\n",
       "| <!--/--> | Div &lt;chr&gt; | Date &lt;chr&gt; | HomeTeam &lt;chr&gt; | AwayTeam &lt;chr&gt; | FTHG &lt;int&gt; | FTAG &lt;int&gt; | FTR &lt;chr&gt; | HS &lt;int&gt; | AS &lt;int&gt; | HST &lt;int&gt; | AST &lt;int&gt; | HF &lt;int&gt; | AF &lt;int&gt; | HC &lt;int&gt; | AC &lt;int&gt; | HY &lt;int&gt; | AY &lt;int&gt; | HR &lt;int&gt; | AR &lt;int&gt; |\n",
       "|---|---|---|---|---|---|---|---|---|---|---|---|---|---|---|---|---|---|---|---|\n",
       "| 1 | I1 | 2009-08-22 | Bologna  | Fiorentina | 1 | 1 | D |  6 | 17 | 4 | 5 | 17 | 20 |  4 | 9 | 1 | 1 | 0 | 0 |\n",
       "| 2 | I1 | 2009-08-22 | Siena    | Milan      | 1 | 2 | A | 15 | 13 | 4 | 5 | 22 | 11 |  5 | 8 | 2 | 1 | 0 | 0 |\n",
       "| 3 | I1 | 2009-08-23 | Catania  | Sampdoria  | 1 | 2 | A |  8 |  8 | 4 | 4 | 29 | 13 | 11 | 4 | 4 | 2 | 1 | 0 |\n",
       "| 4 | I1 | 2009-08-23 | Genoa    | Roma       | 3 | 2 | H | 14 | 11 | 7 | 6 | 20 | 13 |  8 | 5 | 5 | 2 | 0 | 0 |\n",
       "| 5 | I1 | 2009-08-23 | Inter    | Bari       | 1 | 1 | D | 20 | 13 | 3 | 4 | 20 | 14 | 10 | 1 | 3 | 2 | 0 | 0 |\n",
       "| 6 | I1 | 2009-08-23 | Juventus | Chievo     | 1 | 0 | H | 14 |  6 | 2 | 0 | 15 | 14 |  9 | 2 | 3 | 2 | 0 | 0 |\n",
       "\n"
      ],
      "text/plain": [
       "  Div Date       HomeTeam AwayTeam   FTHG FTAG FTR HS AS HST AST HF AF HC AC HY\n",
       "1 I1  2009-08-22 Bologna  Fiorentina 1    1    D    6 17 4   5   17 20  4 9  1 \n",
       "2 I1  2009-08-22 Siena    Milan      1    2    A   15 13 4   5   22 11  5 8  2 \n",
       "3 I1  2009-08-23 Catania  Sampdoria  1    2    A    8  8 4   4   29 13 11 4  4 \n",
       "4 I1  2009-08-23 Genoa    Roma       3    2    H   14 11 7   6   20 13  8 5  5 \n",
       "5 I1  2009-08-23 Inter    Bari       1    1    D   20 13 3   4   20 14 10 1  3 \n",
       "6 I1  2009-08-23 Juventus Chievo     1    0    H   14  6 2   0   15 14  9 2  3 \n",
       "  AY HR AR\n",
       "1 1  0  0 \n",
       "2 1  0  0 \n",
       "3 2  1  0 \n",
       "4 2  0  0 \n",
       "5 2  0  0 \n",
       "6 2  0  0 "
      ]
     },
     "metadata": {},
     "output_type": "display_data"
    }
   ],
   "source": [
    "head(Dataset)"
   ]
  },
  {
   "cell_type": "markdown",
   "id": "6f1ff766",
   "metadata": {
    "execution": {
     "iopub.execute_input": "2023-04-24T21:19:17.892399Z",
     "iopub.status.busy": "2023-04-24T21:19:17.889807Z",
     "iopub.status.idle": "2023-04-24T21:19:18.018875Z"
    }
   },
   "source": [
    "The current version of the Dataset has the following attributes: \n",
    "FTHG: Home Goals\n",
    "FTAG: Away Goals\n",
    "FTR: H= Home Win; A= Away Win; D=Draw\n",
    "HS: Home Shoots\n",
    "AS: Away Shoots\n",
    "HST: Home Shoots on Target\n",
    "AST: Away Shoots on Target\n",
    "HF: Home Faul\n",
    "AF: Away Faul\n",
    "HC: Home Corner\n",
    "AC: Away Corner\n",
    "HY: Home Yellow Card\n",
    "AY: Away Yellow Card\n",
    "HR: Home Red Card\n",
    "AR: Away Red Card"
   ]
  },
  {
   "cell_type": "markdown",
   "id": "7086dd04",
   "metadata": {},
   "source": [
    "# Preprocessing\n"
   ]
  },
  {
   "cell_type": "markdown",
   "id": "e7fe2800",
   "metadata": {},
   "source": [
    "From the original dataset, it is impossible to apply the Cluster algorithm because we have data for each match but not for each team. The preprocessing phase aims to isolate data for each club either as \"Home Team\" or \"Away Team\". Then, the two lists are merged to get a new dataset.\n",
    "The raw version of the dataset has yet to be ready for the algorithm application because each observation is related, at the same time, to Home Team and Away Team. Consequently, we have adopted two techniques: First, We have to consider that all the data related to the opponent team represent a performance the other team has suffered. Consequently, for each match disputed, the author has retrieved data from the opponent team that has been converted to negative as performance suffered (such as goal conceded, shots conceded, corners conceded, etc.). After the application of this technique, the author had two data frames related to each team, Home Team, and Away Team, that have been merged. With the second technique, the author grouped the data based on every single team so that, in the end, he had a short dataset with the performance of each Italian Team in 10 years of matches played that consider also the performance suffered."
   ]
  },
  {
   "cell_type": "markdown",
   "id": "319938bc",
   "metadata": {},
   "source": [
    "## Unique Teams\n",
    "This session is to understand the teams that played at least one game in the Italian Serie A and then to count the total matches played by each."
   ]
  },
  {
   "cell_type": "code",
   "execution_count": 18,
   "id": "c2f14b06",
   "metadata": {
    "execution": {
     "iopub.execute_input": "2023-04-25T20:26:58.297302Z",
     "iopub.status.busy": "2023-04-25T20:26:58.283567Z",
     "iopub.status.idle": "2023-04-25T20:26:58.312474Z"
    }
   },
   "outputs": [
    {
     "data": {
      "text/html": [
       "<style>\n",
       ".list-inline {list-style: none; margin:0; padding: 0}\n",
       ".list-inline>li {display: inline-block}\n",
       ".list-inline>li:not(:last-child)::after {content: \"\\00b7\"; padding: 0 .5ex}\n",
       "</style>\n",
       "<ol class=list-inline><li>'Bologna'</li><li>'Siena'</li><li>'Catania'</li><li>'Genoa'</li><li>'Inter'</li><li>'Juventus'</li><li>'Lazio'</li><li>'Livorno'</li><li>'Palermo'</li><li>'Udinese'</li><li>'Bari'</li><li>'Milan'</li><li>'Atalanta'</li><li>'Cagliari'</li><li>'Chievo'</li><li>'Fiorentina'</li><li>'Napoli'</li><li>'Parma'</li><li>'Roma'</li><li>'Sampdoria'</li><li>'Cesena'</li><li>'Brescia'</li><li>'Lecce'</li><li>'Novara'</li><li>'Pescara'</li><li>'Torino'</li><li>'Verona'</li><li>'Sassuolo'</li><li>'Empoli'</li><li>'Frosinone'</li><li>'Carpi'</li><li>'Crotone'</li><li>'Benevento'</li><li>'Spal'</li></ol>\n"
      ],
      "text/latex": [
       "\\begin{enumerate*}\n",
       "\\item 'Bologna'\n",
       "\\item 'Siena'\n",
       "\\item 'Catania'\n",
       "\\item 'Genoa'\n",
       "\\item 'Inter'\n",
       "\\item 'Juventus'\n",
       "\\item 'Lazio'\n",
       "\\item 'Livorno'\n",
       "\\item 'Palermo'\n",
       "\\item 'Udinese'\n",
       "\\item 'Bari'\n",
       "\\item 'Milan'\n",
       "\\item 'Atalanta'\n",
       "\\item 'Cagliari'\n",
       "\\item 'Chievo'\n",
       "\\item 'Fiorentina'\n",
       "\\item 'Napoli'\n",
       "\\item 'Parma'\n",
       "\\item 'Roma'\n",
       "\\item 'Sampdoria'\n",
       "\\item 'Cesena'\n",
       "\\item 'Brescia'\n",
       "\\item 'Lecce'\n",
       "\\item 'Novara'\n",
       "\\item 'Pescara'\n",
       "\\item 'Torino'\n",
       "\\item 'Verona'\n",
       "\\item 'Sassuolo'\n",
       "\\item 'Empoli'\n",
       "\\item 'Frosinone'\n",
       "\\item 'Carpi'\n",
       "\\item 'Crotone'\n",
       "\\item 'Benevento'\n",
       "\\item 'Spal'\n",
       "\\end{enumerate*}\n"
      ],
      "text/markdown": [
       "1. 'Bologna'\n",
       "2. 'Siena'\n",
       "3. 'Catania'\n",
       "4. 'Genoa'\n",
       "5. 'Inter'\n",
       "6. 'Juventus'\n",
       "7. 'Lazio'\n",
       "8. 'Livorno'\n",
       "9. 'Palermo'\n",
       "10. 'Udinese'\n",
       "11. 'Bari'\n",
       "12. 'Milan'\n",
       "13. 'Atalanta'\n",
       "14. 'Cagliari'\n",
       "15. 'Chievo'\n",
       "16. 'Fiorentina'\n",
       "17. 'Napoli'\n",
       "18. 'Parma'\n",
       "19. 'Roma'\n",
       "20. 'Sampdoria'\n",
       "21. 'Cesena'\n",
       "22. 'Brescia'\n",
       "23. 'Lecce'\n",
       "24. 'Novara'\n",
       "25. 'Pescara'\n",
       "26. 'Torino'\n",
       "27. 'Verona'\n",
       "28. 'Sassuolo'\n",
       "29. 'Empoli'\n",
       "30. 'Frosinone'\n",
       "31. 'Carpi'\n",
       "32. 'Crotone'\n",
       "33. 'Benevento'\n",
       "34. 'Spal'\n",
       "\n",
       "\n"
      ],
      "text/plain": [
       " [1] \"Bologna\"    \"Siena\"      \"Catania\"    \"Genoa\"      \"Inter\"     \n",
       " [6] \"Juventus\"   \"Lazio\"      \"Livorno\"    \"Palermo\"    \"Udinese\"   \n",
       "[11] \"Bari\"       \"Milan\"      \"Atalanta\"   \"Cagliari\"   \"Chievo\"    \n",
       "[16] \"Fiorentina\" \"Napoli\"     \"Parma\"      \"Roma\"       \"Sampdoria\" \n",
       "[21] \"Cesena\"     \"Brescia\"    \"Lecce\"      \"Novara\"     \"Pescara\"   \n",
       "[26] \"Torino\"     \"Verona\"     \"Sassuolo\"   \"Empoli\"     \"Frosinone\" \n",
       "[31] \"Carpi\"      \"Crotone\"    \"Benevento\"  \"Spal\"      "
      ]
     },
     "metadata": {},
     "output_type": "display_data"
    }
   ],
   "source": [
    "unique(Dataset$HomeTeam)"
   ]
  },
  {
   "cell_type": "code",
   "execution_count": 19,
   "id": "5675bb53",
   "metadata": {
    "execution": {
     "iopub.execute_input": "2023-04-25T20:26:58.316144Z",
     "iopub.status.busy": "2023-04-25T20:26:58.314840Z",
     "iopub.status.idle": "2023-04-25T20:26:58.331316Z"
    }
   },
   "outputs": [
    {
     "data": {
      "text/html": [
       "<style>\n",
       ".list-inline {list-style: none; margin:0; padding: 0}\n",
       ".list-inline>li {display: inline-block}\n",
       ".list-inline>li:not(:last-child)::after {content: \"\\00b7\"; padding: 0 .5ex}\n",
       "</style>\n",
       "<ol class=list-inline><li>'Fiorentina'</li><li>'Milan'</li><li>'Sampdoria'</li><li>'Roma'</li><li>'Bari'</li><li>'Chievo'</li><li>'Atalanta'</li><li>'Cagliari'</li><li>'Napoli'</li><li>'Parma'</li><li>'Bologna'</li><li>'Inter'</li><li>'Genoa'</li><li>'Siena'</li><li>'Lazio'</li><li>'Palermo'</li><li>'Livorno'</li><li>'Catania'</li><li>'Juventus'</li><li>'Udinese'</li><li>'Cesena'</li><li>'Lecce'</li><li>'Brescia'</li><li>'Novara'</li><li>'Torino'</li><li>'Pescara'</li><li>'Sassuolo'</li><li>'Verona'</li><li>'Empoli'</li><li>'Carpi'</li><li>'Frosinone'</li><li>'Crotone'</li><li>'Spal'</li><li>'Benevento'</li></ol>\n"
      ],
      "text/latex": [
       "\\begin{enumerate*}\n",
       "\\item 'Fiorentina'\n",
       "\\item 'Milan'\n",
       "\\item 'Sampdoria'\n",
       "\\item 'Roma'\n",
       "\\item 'Bari'\n",
       "\\item 'Chievo'\n",
       "\\item 'Atalanta'\n",
       "\\item 'Cagliari'\n",
       "\\item 'Napoli'\n",
       "\\item 'Parma'\n",
       "\\item 'Bologna'\n",
       "\\item 'Inter'\n",
       "\\item 'Genoa'\n",
       "\\item 'Siena'\n",
       "\\item 'Lazio'\n",
       "\\item 'Palermo'\n",
       "\\item 'Livorno'\n",
       "\\item 'Catania'\n",
       "\\item 'Juventus'\n",
       "\\item 'Udinese'\n",
       "\\item 'Cesena'\n",
       "\\item 'Lecce'\n",
       "\\item 'Brescia'\n",
       "\\item 'Novara'\n",
       "\\item 'Torino'\n",
       "\\item 'Pescara'\n",
       "\\item 'Sassuolo'\n",
       "\\item 'Verona'\n",
       "\\item 'Empoli'\n",
       "\\item 'Carpi'\n",
       "\\item 'Frosinone'\n",
       "\\item 'Crotone'\n",
       "\\item 'Spal'\n",
       "\\item 'Benevento'\n",
       "\\end{enumerate*}\n"
      ],
      "text/markdown": [
       "1. 'Fiorentina'\n",
       "2. 'Milan'\n",
       "3. 'Sampdoria'\n",
       "4. 'Roma'\n",
       "5. 'Bari'\n",
       "6. 'Chievo'\n",
       "7. 'Atalanta'\n",
       "8. 'Cagliari'\n",
       "9. 'Napoli'\n",
       "10. 'Parma'\n",
       "11. 'Bologna'\n",
       "12. 'Inter'\n",
       "13. 'Genoa'\n",
       "14. 'Siena'\n",
       "15. 'Lazio'\n",
       "16. 'Palermo'\n",
       "17. 'Livorno'\n",
       "18. 'Catania'\n",
       "19. 'Juventus'\n",
       "20. 'Udinese'\n",
       "21. 'Cesena'\n",
       "22. 'Lecce'\n",
       "23. 'Brescia'\n",
       "24. 'Novara'\n",
       "25. 'Torino'\n",
       "26. 'Pescara'\n",
       "27. 'Sassuolo'\n",
       "28. 'Verona'\n",
       "29. 'Empoli'\n",
       "30. 'Carpi'\n",
       "31. 'Frosinone'\n",
       "32. 'Crotone'\n",
       "33. 'Spal'\n",
       "34. 'Benevento'\n",
       "\n",
       "\n"
      ],
      "text/plain": [
       " [1] \"Fiorentina\" \"Milan\"      \"Sampdoria\"  \"Roma\"       \"Bari\"      \n",
       " [6] \"Chievo\"     \"Atalanta\"   \"Cagliari\"   \"Napoli\"     \"Parma\"     \n",
       "[11] \"Bologna\"    \"Inter\"      \"Genoa\"      \"Siena\"      \"Lazio\"     \n",
       "[16] \"Palermo\"    \"Livorno\"    \"Catania\"    \"Juventus\"   \"Udinese\"   \n",
       "[21] \"Cesena\"     \"Lecce\"      \"Brescia\"    \"Novara\"     \"Torino\"    \n",
       "[26] \"Pescara\"    \"Sassuolo\"   \"Verona\"     \"Empoli\"     \"Carpi\"     \n",
       "[31] \"Frosinone\"  \"Crotone\"    \"Spal\"       \"Benevento\" "
      ]
     },
     "metadata": {},
     "output_type": "display_data"
    }
   ],
   "source": [
    "unique(Dataset$AwayTeam)"
   ]
  },
  {
   "cell_type": "code",
   "execution_count": 20,
   "id": "4a834cc9",
   "metadata": {
    "execution": {
     "iopub.execute_input": "2023-04-25T20:47:56.556804Z",
     "iopub.status.busy": "2023-04-25T20:47:56.554064Z",
     "iopub.status.idle": "2023-04-25T20:47:56.578774Z"
    }
   },
   "outputs": [
    {
     "data": {
      "text/plain": [
       "\n",
       "    Chievo Fiorentina      Genoa      Inter   Juventus      Lazio      Milan \n",
       "       190        190        190        190        190        190        190 \n",
       "    Napoli    Udinese       Roma   Atalanta    Bologna  Sampdoria   Cagliari \n",
       "       190        190        189        171        171        171        170 \n",
       "   Palermo      Parma     Torino   Sassuolo    Catania     Empoli     Verona \n",
       "       133        133        133        113         95         76         76 \n",
       "    Cesena      Siena       Bari    Crotone  Frosinone      Lecce    Livorno \n",
       "        57         57         38         38         38         38         38 \n",
       "   Pescara       Spal  Benevento    Brescia      Carpi     Novara \n",
       "        38         38         19         19         19         19 "
      ]
     },
     "metadata": {},
     "output_type": "display_data"
    }
   ],
   "source": [
    "# number of games Home\n",
    "sort(table(Dataset$HomeTeam), decreasing=TRUE)"
   ]
  },
  {
   "cell_type": "code",
   "execution_count": 21,
   "id": "8883cd1a",
   "metadata": {
    "execution": {
     "iopub.execute_input": "2023-04-25T20:48:01.423336Z",
     "iopub.status.busy": "2023-04-25T20:48:01.421703Z",
     "iopub.status.idle": "2023-04-25T20:48:01.442327Z"
    }
   },
   "outputs": [
    {
     "data": {
      "text/plain": [
       "\n",
       "    Chievo Fiorentina      Genoa      Inter      Lazio      Milan     Napoli \n",
       "       190        190        190        190        190        190        190 \n",
       "   Udinese   Juventus       Roma   Atalanta    Bologna   Cagliari  Sampdoria \n",
       "       190        189        189        171        171        171        171 \n",
       "   Palermo      Parma     Torino   Sassuolo    Catania     Empoli     Verona \n",
       "       133        133        133        114         95         76         76 \n",
       "    Cesena      Siena       Bari    Crotone  Frosinone      Lecce    Livorno \n",
       "        57         57         38         38         38         38         38 \n",
       "      Spal    Pescara  Benevento    Brescia      Carpi     Novara \n",
       "        38         37         19         19         19         19 "
      ]
     },
     "metadata": {},
     "output_type": "display_data"
    }
   ],
   "source": [
    "# number of games Away\n",
    "sort(table(Dataset$AwayTeam), decreasing=TRUE)"
   ]
  },
  {
   "cell_type": "code",
   "execution_count": 22,
   "id": "a52289b8",
   "metadata": {
    "execution": {
     "iopub.execute_input": "2023-04-25T20:49:18.387804Z",
     "iopub.status.busy": "2023-04-25T20:49:18.386050Z",
     "iopub.status.idle": "2023-04-25T20:49:18.413566Z"
    }
   },
   "outputs": [
    {
     "data": {
      "text/plain": [
       "\n",
       "    Chievo Fiorentina      Genoa      Inter   Juventus      Lazio      Milan \n",
       "       380        380        380        380        380        380        380 \n",
       "    Napoli    Udinese       Roma   Atalanta    Bologna  Sampdoria   Cagliari \n",
       "       380        379        378        342        342        342        341 \n",
       "   Palermo      Parma     Torino   Sassuolo    Catania     Empoli     Verona \n",
       "       266        266        266        227        190        152        152 \n",
       "    Cesena      Siena       Bari    Crotone  Frosinone      Lecce    Livorno \n",
       "       114        114         76         76         76         76         76 \n",
       "   Pescara       Spal  Benevento    Brescia      Carpi     Novara \n",
       "        76         75         38         38         38         38 "
      ]
     },
     "metadata": {},
     "output_type": "display_data"
    }
   ],
   "source": [
    "Home=sort(table(Dataset$HomeTeam), decreasing=TRUE)\n",
    "Away=sort(table(Dataset$AwayTeam), decreasing=TRUE)\n",
    "TotalMatches=Home+Away\n",
    "TotalMatches"
   ]
  },
  {
   "cell_type": "markdown",
   "id": "ee6261d8",
   "metadata": {},
   "source": [
    "## Isolating Home Scores\n",
    "In this session, it will be retrieved data per each team that played at Home. In addition, it will be retrieved goals conceded \"FTAG\", shots conceded \"AS\", shots on target conceded \"AST\", corners conceded \"AC\", fauls received \"AF\", yellow cards received \"AY\", red cards received \"AR\".\n",
    "Moreover, goals conceded \"FTAG\", shots conceded \"AS\", shots on target conceded \"AST\", corners conceded \"AC\",fauls committed, yellow cards and red cards received are negative parameters and so they will be converted into negative numbers.\n",
    "\n"
   ]
  },
  {
   "cell_type": "code",
   "execution_count": 23,
   "id": "eef7f99a",
   "metadata": {
    "execution": {
     "iopub.execute_input": "2023-04-25T20:26:58.453737Z",
     "iopub.status.busy": "2023-04-25T20:26:58.452392Z",
     "iopub.status.idle": "2023-04-25T20:26:58.502508Z"
    }
   },
   "outputs": [],
   "source": [
    "## ISOLATING THE TEAMS\n",
    "ListHome <- lapply(Dataset$HomeTeam, unique)\n",
    "ListAway <- lapply(Dataset$AwayTeam, unique)"
   ]
  },
  {
   "cell_type": "code",
   "execution_count": 24,
   "id": "369a9bb8",
   "metadata": {
    "execution": {
     "iopub.execute_input": "2023-04-25T21:32:50.079489Z",
     "iopub.status.busy": "2023-04-25T21:32:50.077630Z",
     "iopub.status.idle": "2023-04-25T21:32:50.094953Z"
    }
   },
   "outputs": [],
   "source": [
    "Home=Dataset[(Dataset$HomeTeam==c(ListHome)), c(\"HomeTeam\", \"FTHG\", \"FTR\", \"HS\", \"HST\", \"HF\", \"HC\", \"HY\", \"HR\", \"FTAG\", \"AS\", \"AST\", \"AC\", \"AF\", \"AY\", \"AR\")]\n"
   ]
  },
  {
   "cell_type": "code",
   "execution_count": 25,
   "id": "9ab7858a",
   "metadata": {
    "execution": {
     "iopub.execute_input": "2023-04-25T21:58:49.977185Z",
     "iopub.status.busy": "2023-04-25T21:58:49.973470Z",
     "iopub.status.idle": "2023-04-25T21:58:50.001617Z"
    }
   },
   "outputs": [],
   "source": [
    "# Converting Fauls committed and yellow and red cards received into negative numbers\n",
    "Home$HF = Home$HF*(-1)\n",
    "Home$HY = Home$HY*(-1)\n",
    "Home$HR = Home$HR*(-1)"
   ]
  },
  {
   "cell_type": "code",
   "execution_count": 26,
   "id": "2179b4d9",
   "metadata": {
    "execution": {
     "iopub.execute_input": "2023-04-25T22:00:28.999793Z",
     "iopub.status.busy": "2023-04-25T22:00:28.998180Z",
     "iopub.status.idle": "2023-04-25T22:00:29.017328Z"
    }
   },
   "outputs": [],
   "source": [
    "# Converting goals conceded \"FTAG\", shots conceded \"AS\", shots on target conceded \"AST\", corners conceded \"AC\" into negative numbers.\n",
    "Home$FTAG = Home$FTAG*(-1)\n",
    "Home$AS = Home$AS*(-1)\n",
    "Home$AST = Home$AST*(-1)\n",
    "Home$AC = Home$AC*(-1)"
   ]
  },
  {
   "cell_type": "code",
   "execution_count": 27,
   "id": "0d2646a3",
   "metadata": {
    "execution": {
     "iopub.execute_input": "2023-04-25T20:27:30.096974Z",
     "iopub.status.busy": "2023-04-25T20:27:30.095409Z",
     "iopub.status.idle": "2023-04-25T20:27:30.112377Z"
    }
   },
   "outputs": [
    {
     "data": {
      "text/html": [
       "3797"
      ],
      "text/latex": [
       "3797"
      ],
      "text/markdown": [
       "3797"
      ],
      "text/plain": [
       "[1] 3797"
      ]
     },
     "metadata": {},
     "output_type": "display_data"
    }
   ],
   "source": [
    "nrow(Home)"
   ]
  },
  {
   "cell_type": "code",
   "execution_count": 28,
   "id": "959f205f",
   "metadata": {
    "execution": {
     "iopub.execute_input": "2023-04-25T20:27:30.116446Z",
     "iopub.status.busy": "2023-04-25T20:27:30.114978Z",
     "iopub.status.idle": "2023-04-25T20:27:30.149675Z"
    }
   },
   "outputs": [
    {
     "data": {
      "text/html": [
       "<table class=\"dataframe\">\n",
       "<caption>A data.frame: 6 × 16</caption>\n",
       "<thead>\n",
       "\t<tr><th></th><th scope=col>HomeTeam</th><th scope=col>FTHG</th><th scope=col>FTR</th><th scope=col>HS</th><th scope=col>HST</th><th scope=col>HF</th><th scope=col>HC</th><th scope=col>HY</th><th scope=col>HR</th><th scope=col>FTAG</th><th scope=col>AS</th><th scope=col>AST</th><th scope=col>AC</th><th scope=col>AF</th><th scope=col>AY</th><th scope=col>AR</th></tr>\n",
       "\t<tr><th></th><th scope=col>&lt;chr&gt;</th><th scope=col>&lt;int&gt;</th><th scope=col>&lt;chr&gt;</th><th scope=col>&lt;int&gt;</th><th scope=col>&lt;int&gt;</th><th scope=col>&lt;dbl&gt;</th><th scope=col>&lt;int&gt;</th><th scope=col>&lt;dbl&gt;</th><th scope=col>&lt;dbl&gt;</th><th scope=col>&lt;dbl&gt;</th><th scope=col>&lt;dbl&gt;</th><th scope=col>&lt;dbl&gt;</th><th scope=col>&lt;dbl&gt;</th><th scope=col>&lt;int&gt;</th><th scope=col>&lt;int&gt;</th><th scope=col>&lt;int&gt;</th></tr>\n",
       "</thead>\n",
       "<tbody>\n",
       "\t<tr><th scope=row>1</th><td>Bologna </td><td>1</td><td>D</td><td> 6</td><td>4</td><td>-17</td><td> 4</td><td>-1</td><td> 0</td><td>-1</td><td>-17</td><td>-5</td><td>-9</td><td>20</td><td>1</td><td>0</td></tr>\n",
       "\t<tr><th scope=row>2</th><td>Siena   </td><td>1</td><td>A</td><td>15</td><td>4</td><td>-22</td><td> 5</td><td>-2</td><td> 0</td><td>-2</td><td>-13</td><td>-5</td><td>-8</td><td>11</td><td>1</td><td>0</td></tr>\n",
       "\t<tr><th scope=row>3</th><td>Catania </td><td>1</td><td>A</td><td> 8</td><td>4</td><td>-29</td><td>11</td><td>-4</td><td>-1</td><td>-2</td><td> -8</td><td>-4</td><td>-4</td><td>13</td><td>2</td><td>0</td></tr>\n",
       "\t<tr><th scope=row>4</th><td>Genoa   </td><td>3</td><td>H</td><td>14</td><td>7</td><td>-20</td><td> 8</td><td>-5</td><td> 0</td><td>-2</td><td>-11</td><td>-6</td><td>-5</td><td>13</td><td>2</td><td>0</td></tr>\n",
       "\t<tr><th scope=row>5</th><td>Inter   </td><td>1</td><td>D</td><td>20</td><td>3</td><td>-20</td><td>10</td><td>-3</td><td> 0</td><td>-1</td><td>-13</td><td>-4</td><td>-1</td><td>14</td><td>2</td><td>0</td></tr>\n",
       "\t<tr><th scope=row>6</th><td>Juventus</td><td>1</td><td>H</td><td>14</td><td>2</td><td>-15</td><td> 9</td><td>-3</td><td> 0</td><td> 0</td><td> -6</td><td> 0</td><td>-2</td><td>14</td><td>2</td><td>0</td></tr>\n",
       "</tbody>\n",
       "</table>\n"
      ],
      "text/latex": [
       "A data.frame: 6 × 16\n",
       "\\begin{tabular}{r|llllllllllllllll}\n",
       "  & HomeTeam & FTHG & FTR & HS & HST & HF & HC & HY & HR & FTAG & AS & AST & AC & AF & AY & AR\\\\\n",
       "  & <chr> & <int> & <chr> & <int> & <int> & <dbl> & <int> & <dbl> & <dbl> & <dbl> & <dbl> & <dbl> & <dbl> & <int> & <int> & <int>\\\\\n",
       "\\hline\n",
       "\t1 & Bologna  & 1 & D &  6 & 4 & -17 &  4 & -1 &  0 & -1 & -17 & -5 & -9 & 20 & 1 & 0\\\\\n",
       "\t2 & Siena    & 1 & A & 15 & 4 & -22 &  5 & -2 &  0 & -2 & -13 & -5 & -8 & 11 & 1 & 0\\\\\n",
       "\t3 & Catania  & 1 & A &  8 & 4 & -29 & 11 & -4 & -1 & -2 &  -8 & -4 & -4 & 13 & 2 & 0\\\\\n",
       "\t4 & Genoa    & 3 & H & 14 & 7 & -20 &  8 & -5 &  0 & -2 & -11 & -6 & -5 & 13 & 2 & 0\\\\\n",
       "\t5 & Inter    & 1 & D & 20 & 3 & -20 & 10 & -3 &  0 & -1 & -13 & -4 & -1 & 14 & 2 & 0\\\\\n",
       "\t6 & Juventus & 1 & H & 14 & 2 & -15 &  9 & -3 &  0 &  0 &  -6 &  0 & -2 & 14 & 2 & 0\\\\\n",
       "\\end{tabular}\n"
      ],
      "text/markdown": [
       "\n",
       "A data.frame: 6 × 16\n",
       "\n",
       "| <!--/--> | HomeTeam &lt;chr&gt; | FTHG &lt;int&gt; | FTR &lt;chr&gt; | HS &lt;int&gt; | HST &lt;int&gt; | HF &lt;dbl&gt; | HC &lt;int&gt; | HY &lt;dbl&gt; | HR &lt;dbl&gt; | FTAG &lt;dbl&gt; | AS &lt;dbl&gt; | AST &lt;dbl&gt; | AC &lt;dbl&gt; | AF &lt;int&gt; | AY &lt;int&gt; | AR &lt;int&gt; |\n",
       "|---|---|---|---|---|---|---|---|---|---|---|---|---|---|---|---|---|\n",
       "| 1 | Bologna  | 1 | D |  6 | 4 | -17 |  4 | -1 |  0 | -1 | -17 | -5 | -9 | 20 | 1 | 0 |\n",
       "| 2 | Siena    | 1 | A | 15 | 4 | -22 |  5 | -2 |  0 | -2 | -13 | -5 | -8 | 11 | 1 | 0 |\n",
       "| 3 | Catania  | 1 | A |  8 | 4 | -29 | 11 | -4 | -1 | -2 |  -8 | -4 | -4 | 13 | 2 | 0 |\n",
       "| 4 | Genoa    | 3 | H | 14 | 7 | -20 |  8 | -5 |  0 | -2 | -11 | -6 | -5 | 13 | 2 | 0 |\n",
       "| 5 | Inter    | 1 | D | 20 | 3 | -20 | 10 | -3 |  0 | -1 | -13 | -4 | -1 | 14 | 2 | 0 |\n",
       "| 6 | Juventus | 1 | H | 14 | 2 | -15 |  9 | -3 |  0 |  0 |  -6 |  0 | -2 | 14 | 2 | 0 |\n",
       "\n"
      ],
      "text/plain": [
       "  HomeTeam FTHG FTR HS HST HF  HC HY HR FTAG AS  AST AC AF AY AR\n",
       "1 Bologna  1    D    6 4   -17  4 -1  0 -1   -17 -5  -9 20 1  0 \n",
       "2 Siena    1    A   15 4   -22  5 -2  0 -2   -13 -5  -8 11 1  0 \n",
       "3 Catania  1    A    8 4   -29 11 -4 -1 -2    -8 -4  -4 13 2  0 \n",
       "4 Genoa    3    H   14 7   -20  8 -5  0 -2   -11 -6  -5 13 2  0 \n",
       "5 Inter    1    D   20 3   -20 10 -3  0 -1   -13 -4  -1 14 2  0 \n",
       "6 Juventus 1    H   14 2   -15  9 -3  0  0    -6  0  -2 14 2  0 "
      ]
     },
     "metadata": {},
     "output_type": "display_data"
    }
   ],
   "source": [
    "head(Home)"
   ]
  },
  {
   "cell_type": "markdown",
   "id": "ee3e3585",
   "metadata": {},
   "source": [
    "## Isolating Away Scores\n",
    "In this session will be retrieved data per each team that played Away. In addition, will be retrieved goals conceded \"FTHG\", shots conceded \"HS\", shots on target conceded \"HST\", corners conceded \"HC\", fauls received \"HF\", yellow cards received \"HY\", red cards received \"HR\". Moreover, goals conceded \"FTHG\", shots conceded \"HS\", shots on target conceded \"HST\", corners conceded \"HC\",fauls committed, yellow cards and red cards received are negative parameters and so they will be converted into negative numbers."
   ]
  },
  {
   "cell_type": "code",
   "execution_count": 29,
   "id": "ac28f4af",
   "metadata": {
    "execution": {
     "iopub.execute_input": "2023-04-25T22:03:21.353208Z",
     "iopub.status.busy": "2023-04-25T22:03:21.350654Z",
     "iopub.status.idle": "2023-04-25T22:03:21.375325Z"
    }
   },
   "outputs": [],
   "source": [
    "Away=Dataset[(Dataset$AwayTeam==c(ListAway)), c(\"AwayTeam\", \"FTAG\", \"FTR\", \"AS\", \"AST\", \"AF\", \"AC\", \"AY\", \"AR\", \"FTHG\", \"HS\", \"HST\", \"HC\", \"HF\", \"HY\", \"HR\")]\n"
   ]
  },
  {
   "cell_type": "code",
   "execution_count": 30,
   "id": "13ce7a72",
   "metadata": {
    "execution": {
     "iopub.execute_input": "2023-04-25T22:03:49.350541Z",
     "iopub.status.busy": "2023-04-25T22:03:49.349022Z",
     "iopub.status.idle": "2023-04-25T22:03:49.367700Z"
    }
   },
   "outputs": [],
   "source": [
    "# Converting Fauls committed and yellow and red cards received into negative numbers\n",
    "Away$AF = Away$AF*(-1)\n",
    "Away$AY = Away$AY*(-1)\n",
    "Away$AR = Away$AR*(-1)\n"
   ]
  },
  {
   "cell_type": "code",
   "execution_count": 31,
   "id": "0c4d31af",
   "metadata": {
    "execution": {
     "iopub.execute_input": "2023-04-25T22:04:34.747378Z",
     "iopub.status.busy": "2023-04-25T22:04:34.745929Z",
     "iopub.status.idle": "2023-04-25T22:04:34.767098Z"
    }
   },
   "outputs": [],
   "source": [
    "# Converting goals conceded \"FTHG\", shots conceded \"HS\", shots on target conceded \"HST\", corners conceded \"HC\" into negative numbers.\n",
    "Away$FTHG = Away$FTHG*(-1)\n",
    "Away$HS = Away$HS*(-1)\n",
    "Away$HST = Away$HST*(-1)\n",
    "Away$HC = Away$HC*(-1)\n",
    "\n"
   ]
  },
  {
   "cell_type": "code",
   "execution_count": 32,
   "id": "1807b77c",
   "metadata": {
    "execution": {
     "iopub.execute_input": "2023-04-25T20:27:30.229544Z",
     "iopub.status.busy": "2023-04-25T20:27:30.228095Z",
     "iopub.status.idle": "2023-04-25T20:27:30.245316Z"
    }
   },
   "outputs": [
    {
     "data": {
      "text/html": [
       "3797"
      ],
      "text/latex": [
       "3797"
      ],
      "text/markdown": [
       "3797"
      ],
      "text/plain": [
       "[1] 3797"
      ]
     },
     "metadata": {},
     "output_type": "display_data"
    }
   ],
   "source": [
    "nrow(Away)"
   ]
  },
  {
   "cell_type": "code",
   "execution_count": 33,
   "id": "ac88e424",
   "metadata": {
    "execution": {
     "iopub.execute_input": "2023-04-25T20:27:30.249360Z",
     "iopub.status.busy": "2023-04-25T20:27:30.247920Z",
     "iopub.status.idle": "2023-04-25T20:27:30.281008Z"
    }
   },
   "outputs": [
    {
     "data": {
      "text/html": [
       "<table class=\"dataframe\">\n",
       "<caption>A data.frame: 6 × 16</caption>\n",
       "<thead>\n",
       "\t<tr><th></th><th scope=col>AwayTeam</th><th scope=col>FTAG</th><th scope=col>FTR</th><th scope=col>AS</th><th scope=col>AST</th><th scope=col>AF</th><th scope=col>AC</th><th scope=col>AY</th><th scope=col>AR</th><th scope=col>FTHG</th><th scope=col>HS</th><th scope=col>HST</th><th scope=col>HC</th><th scope=col>HF</th><th scope=col>HY</th><th scope=col>HR</th></tr>\n",
       "\t<tr><th></th><th scope=col>&lt;chr&gt;</th><th scope=col>&lt;int&gt;</th><th scope=col>&lt;chr&gt;</th><th scope=col>&lt;int&gt;</th><th scope=col>&lt;int&gt;</th><th scope=col>&lt;dbl&gt;</th><th scope=col>&lt;int&gt;</th><th scope=col>&lt;dbl&gt;</th><th scope=col>&lt;dbl&gt;</th><th scope=col>&lt;dbl&gt;</th><th scope=col>&lt;dbl&gt;</th><th scope=col>&lt;dbl&gt;</th><th scope=col>&lt;dbl&gt;</th><th scope=col>&lt;int&gt;</th><th scope=col>&lt;int&gt;</th><th scope=col>&lt;int&gt;</th></tr>\n",
       "</thead>\n",
       "<tbody>\n",
       "\t<tr><th scope=row>1</th><td>Fiorentina</td><td>1</td><td>D</td><td>17</td><td>5</td><td>-20</td><td>9</td><td>-1</td><td>0</td><td>-1</td><td> -6</td><td>-4</td><td> -4</td><td>17</td><td>1</td><td>0</td></tr>\n",
       "\t<tr><th scope=row>2</th><td>Milan     </td><td>2</td><td>A</td><td>13</td><td>5</td><td>-11</td><td>8</td><td>-1</td><td>0</td><td>-1</td><td>-15</td><td>-4</td><td> -5</td><td>22</td><td>2</td><td>0</td></tr>\n",
       "\t<tr><th scope=row>3</th><td>Sampdoria </td><td>2</td><td>A</td><td> 8</td><td>4</td><td>-13</td><td>4</td><td>-2</td><td>0</td><td>-1</td><td> -8</td><td>-4</td><td>-11</td><td>29</td><td>4</td><td>1</td></tr>\n",
       "\t<tr><th scope=row>4</th><td>Roma      </td><td>2</td><td>H</td><td>11</td><td>6</td><td>-13</td><td>5</td><td>-2</td><td>0</td><td>-3</td><td>-14</td><td>-7</td><td> -8</td><td>20</td><td>5</td><td>0</td></tr>\n",
       "\t<tr><th scope=row>5</th><td>Bari      </td><td>1</td><td>D</td><td>13</td><td>4</td><td>-14</td><td>1</td><td>-2</td><td>0</td><td>-1</td><td>-20</td><td>-3</td><td>-10</td><td>20</td><td>3</td><td>0</td></tr>\n",
       "\t<tr><th scope=row>6</th><td>Chievo    </td><td>0</td><td>H</td><td> 6</td><td>0</td><td>-14</td><td>2</td><td>-2</td><td>0</td><td>-1</td><td>-14</td><td>-2</td><td> -9</td><td>15</td><td>3</td><td>0</td></tr>\n",
       "</tbody>\n",
       "</table>\n"
      ],
      "text/latex": [
       "A data.frame: 6 × 16\n",
       "\\begin{tabular}{r|llllllllllllllll}\n",
       "  & AwayTeam & FTAG & FTR & AS & AST & AF & AC & AY & AR & FTHG & HS & HST & HC & HF & HY & HR\\\\\n",
       "  & <chr> & <int> & <chr> & <int> & <int> & <dbl> & <int> & <dbl> & <dbl> & <dbl> & <dbl> & <dbl> & <dbl> & <int> & <int> & <int>\\\\\n",
       "\\hline\n",
       "\t1 & Fiorentina & 1 & D & 17 & 5 & -20 & 9 & -1 & 0 & -1 &  -6 & -4 &  -4 & 17 & 1 & 0\\\\\n",
       "\t2 & Milan      & 2 & A & 13 & 5 & -11 & 8 & -1 & 0 & -1 & -15 & -4 &  -5 & 22 & 2 & 0\\\\\n",
       "\t3 & Sampdoria  & 2 & A &  8 & 4 & -13 & 4 & -2 & 0 & -1 &  -8 & -4 & -11 & 29 & 4 & 1\\\\\n",
       "\t4 & Roma       & 2 & H & 11 & 6 & -13 & 5 & -2 & 0 & -3 & -14 & -7 &  -8 & 20 & 5 & 0\\\\\n",
       "\t5 & Bari       & 1 & D & 13 & 4 & -14 & 1 & -2 & 0 & -1 & -20 & -3 & -10 & 20 & 3 & 0\\\\\n",
       "\t6 & Chievo     & 0 & H &  6 & 0 & -14 & 2 & -2 & 0 & -1 & -14 & -2 &  -9 & 15 & 3 & 0\\\\\n",
       "\\end{tabular}\n"
      ],
      "text/markdown": [
       "\n",
       "A data.frame: 6 × 16\n",
       "\n",
       "| <!--/--> | AwayTeam &lt;chr&gt; | FTAG &lt;int&gt; | FTR &lt;chr&gt; | AS &lt;int&gt; | AST &lt;int&gt; | AF &lt;dbl&gt; | AC &lt;int&gt; | AY &lt;dbl&gt; | AR &lt;dbl&gt; | FTHG &lt;dbl&gt; | HS &lt;dbl&gt; | HST &lt;dbl&gt; | HC &lt;dbl&gt; | HF &lt;int&gt; | HY &lt;int&gt; | HR &lt;int&gt; |\n",
       "|---|---|---|---|---|---|---|---|---|---|---|---|---|---|---|---|---|\n",
       "| 1 | Fiorentina | 1 | D | 17 | 5 | -20 | 9 | -1 | 0 | -1 |  -6 | -4 |  -4 | 17 | 1 | 0 |\n",
       "| 2 | Milan      | 2 | A | 13 | 5 | -11 | 8 | -1 | 0 | -1 | -15 | -4 |  -5 | 22 | 2 | 0 |\n",
       "| 3 | Sampdoria  | 2 | A |  8 | 4 | -13 | 4 | -2 | 0 | -1 |  -8 | -4 | -11 | 29 | 4 | 1 |\n",
       "| 4 | Roma       | 2 | H | 11 | 6 | -13 | 5 | -2 | 0 | -3 | -14 | -7 |  -8 | 20 | 5 | 0 |\n",
       "| 5 | Bari       | 1 | D | 13 | 4 | -14 | 1 | -2 | 0 | -1 | -20 | -3 | -10 | 20 | 3 | 0 |\n",
       "| 6 | Chievo     | 0 | H |  6 | 0 | -14 | 2 | -2 | 0 | -1 | -14 | -2 |  -9 | 15 | 3 | 0 |\n",
       "\n"
      ],
      "text/plain": [
       "  AwayTeam   FTAG FTR AS AST AF  AC AY AR FTHG HS  HST HC  HF HY HR\n",
       "1 Fiorentina 1    D   17 5   -20 9  -1 0  -1    -6 -4   -4 17 1  0 \n",
       "2 Milan      2    A   13 5   -11 8  -1 0  -1   -15 -4   -5 22 2  0 \n",
       "3 Sampdoria  2    A    8 4   -13 4  -2 0  -1    -8 -4  -11 29 4  1 \n",
       "4 Roma       2    H   11 6   -13 5  -2 0  -3   -14 -7   -8 20 5  0 \n",
       "5 Bari       1    D   13 4   -14 1  -2 0  -1   -20 -3  -10 20 3  0 \n",
       "6 Chievo     0    H    6 0   -14 2  -2 0  -1   -14 -2   -9 15 3  0 "
      ]
     },
     "metadata": {},
     "output_type": "display_data"
    }
   ],
   "source": [
    "head(Away)"
   ]
  },
  {
   "cell_type": "markdown",
   "id": "af2718d0",
   "metadata": {},
   "source": [
    "## Combine Home and Away scores in one dataset\n"
   ]
  },
  {
   "cell_type": "code",
   "execution_count": 34,
   "id": "afa796bb",
   "metadata": {
    "execution": {
     "iopub.execute_input": "2023-04-25T20:27:30.285020Z",
     "iopub.status.busy": "2023-04-25T20:27:30.283524Z",
     "iopub.status.idle": "2023-04-25T20:27:30.299655Z"
    }
   },
   "outputs": [],
   "source": [
    "#giving the same name to the columns\n",
    "colnames(Home) <- c('Team','Goal', 'Results', 'Shots', 'Shots_on_Target', 'Faults', 'Corners','Y_Card', 'R_Card', 'Goals_Suffered', 'Shots_Suffered', 'Shots_on_Target_Suffered', 'Corners_Suffered', 'Fauls_Suffered', 'YC_Suffered', 'RC_Suffered')\n",
    "colnames(Away) <- c('Team','Goal', 'Results', 'Shots', 'Shots_on_Target', 'Faults', 'Corners','Y_Card', 'R_Card', 'Goals_Suffered', 'Shots_Suffered', 'Shots_on_Target_Suffered', 'Corners_Suffered', 'Fauls_Suffered', 'YC_Suffered', 'RC_Suffered')\n"
   ]
  },
  {
   "cell_type": "code",
   "execution_count": 35,
   "id": "e7ec4959",
   "metadata": {
    "execution": {
     "iopub.execute_input": "2023-04-25T20:27:30.303442Z",
     "iopub.status.busy": "2023-04-25T20:27:30.302105Z",
     "iopub.status.idle": "2023-04-25T20:27:30.325116Z"
    }
   },
   "outputs": [],
   "source": [
    "# Combine the dataset\n",
    "DatasetCombined <- rbind(Home, Away)"
   ]
  },
  {
   "cell_type": "code",
   "execution_count": 36,
   "id": "e5a26517",
   "metadata": {
    "execution": {
     "iopub.execute_input": "2023-04-25T20:27:30.329115Z",
     "iopub.status.busy": "2023-04-25T20:27:30.327695Z",
     "iopub.status.idle": "2023-04-25T20:27:30.359631Z"
    }
   },
   "outputs": [
    {
     "data": {
      "text/html": [
       "7594"
      ],
      "text/latex": [
       "7594"
      ],
      "text/markdown": [
       "7594"
      ],
      "text/plain": [
       "[1] 7594"
      ]
     },
     "metadata": {},
     "output_type": "display_data"
    }
   ],
   "source": [
    "nrow(DatasetCombined)"
   ]
  },
  {
   "cell_type": "markdown",
   "id": "3a4a0715",
   "metadata": {
    "execution": {
     "iopub.execute_input": "2023-04-25T22:13:51.174587Z",
     "iopub.status.busy": "2023-04-25T22:13:51.173016Z",
     "iopub.status.idle": "2023-04-25T22:13:51.186711Z"
    }
   },
   "source": [
    "## Converting the final result into points"
   ]
  },
  {
   "cell_type": "code",
   "execution_count": 37,
   "id": "595a9097",
   "metadata": {
    "execution": {
     "iopub.execute_input": "2023-04-25T20:27:30.363636Z",
     "iopub.status.busy": "2023-04-25T20:27:30.362214Z",
     "iopub.status.idle": "2023-04-25T20:27:30.383666Z"
    }
   },
   "outputs": [],
   "source": [
    "# giving a score of 5 for victories away, 3 for victories home, 1 for draw\n",
    "DatasetCombined$Results<-replace(DatasetCombined$Results, DatasetCombined$Results=='A', 5)\n",
    "DatasetCombined$Results<-replace(DatasetCombined$Results, DatasetCombined$Results=='H', 3)\n",
    "DatasetCombined$Results<-replace(DatasetCombined$Results, DatasetCombined$Results=='D', 1)\n",
    "DatasetCombined$Results=as.integer(DatasetCombined$Results)"
   ]
  },
  {
   "cell_type": "code",
   "execution_count": 38,
   "id": "503397ff",
   "metadata": {
    "execution": {
     "iopub.execute_input": "2023-04-25T20:27:30.387607Z",
     "iopub.status.busy": "2023-04-25T20:27:30.386203Z",
     "iopub.status.idle": "2023-04-25T20:27:30.420727Z"
    }
   },
   "outputs": [
    {
     "data": {
      "text/html": [
       "<table class=\"dataframe\">\n",
       "<caption>A data.frame: 6 × 16</caption>\n",
       "<thead>\n",
       "\t<tr><th></th><th scope=col>Team</th><th scope=col>Goal</th><th scope=col>Results</th><th scope=col>Shots</th><th scope=col>Shots_on_Target</th><th scope=col>Faults</th><th scope=col>Corners</th><th scope=col>Y_Card</th><th scope=col>R_Card</th><th scope=col>Goals_Suffered</th><th scope=col>Shots_Suffered</th><th scope=col>Shots_on_Target_Suffered</th><th scope=col>Corners_Suffered</th><th scope=col>Fauls_Suffered</th><th scope=col>YC_Suffered</th><th scope=col>RC_Suffered</th></tr>\n",
       "\t<tr><th></th><th scope=col>&lt;chr&gt;</th><th scope=col>&lt;int&gt;</th><th scope=col>&lt;int&gt;</th><th scope=col>&lt;int&gt;</th><th scope=col>&lt;int&gt;</th><th scope=col>&lt;dbl&gt;</th><th scope=col>&lt;int&gt;</th><th scope=col>&lt;dbl&gt;</th><th scope=col>&lt;dbl&gt;</th><th scope=col>&lt;dbl&gt;</th><th scope=col>&lt;dbl&gt;</th><th scope=col>&lt;dbl&gt;</th><th scope=col>&lt;dbl&gt;</th><th scope=col>&lt;int&gt;</th><th scope=col>&lt;int&gt;</th><th scope=col>&lt;int&gt;</th></tr>\n",
       "</thead>\n",
       "<tbody>\n",
       "\t<tr><th scope=row>1</th><td>Bologna </td><td>1</td><td>1</td><td> 6</td><td>4</td><td>-17</td><td> 4</td><td>-1</td><td> 0</td><td>-1</td><td>-17</td><td>-5</td><td>-9</td><td>20</td><td>1</td><td>0</td></tr>\n",
       "\t<tr><th scope=row>2</th><td>Siena   </td><td>1</td><td>5</td><td>15</td><td>4</td><td>-22</td><td> 5</td><td>-2</td><td> 0</td><td>-2</td><td>-13</td><td>-5</td><td>-8</td><td>11</td><td>1</td><td>0</td></tr>\n",
       "\t<tr><th scope=row>3</th><td>Catania </td><td>1</td><td>5</td><td> 8</td><td>4</td><td>-29</td><td>11</td><td>-4</td><td>-1</td><td>-2</td><td> -8</td><td>-4</td><td>-4</td><td>13</td><td>2</td><td>0</td></tr>\n",
       "\t<tr><th scope=row>4</th><td>Genoa   </td><td>3</td><td>3</td><td>14</td><td>7</td><td>-20</td><td> 8</td><td>-5</td><td> 0</td><td>-2</td><td>-11</td><td>-6</td><td>-5</td><td>13</td><td>2</td><td>0</td></tr>\n",
       "\t<tr><th scope=row>5</th><td>Inter   </td><td>1</td><td>1</td><td>20</td><td>3</td><td>-20</td><td>10</td><td>-3</td><td> 0</td><td>-1</td><td>-13</td><td>-4</td><td>-1</td><td>14</td><td>2</td><td>0</td></tr>\n",
       "\t<tr><th scope=row>6</th><td>Juventus</td><td>1</td><td>3</td><td>14</td><td>2</td><td>-15</td><td> 9</td><td>-3</td><td> 0</td><td> 0</td><td> -6</td><td> 0</td><td>-2</td><td>14</td><td>2</td><td>0</td></tr>\n",
       "</tbody>\n",
       "</table>\n"
      ],
      "text/latex": [
       "A data.frame: 6 × 16\n",
       "\\begin{tabular}{r|llllllllllllllll}\n",
       "  & Team & Goal & Results & Shots & Shots\\_on\\_Target & Faults & Corners & Y\\_Card & R\\_Card & Goals\\_Suffered & Shots\\_Suffered & Shots\\_on\\_Target\\_Suffered & Corners\\_Suffered & Fauls\\_Suffered & YC\\_Suffered & RC\\_Suffered\\\\\n",
       "  & <chr> & <int> & <int> & <int> & <int> & <dbl> & <int> & <dbl> & <dbl> & <dbl> & <dbl> & <dbl> & <dbl> & <int> & <int> & <int>\\\\\n",
       "\\hline\n",
       "\t1 & Bologna  & 1 & 1 &  6 & 4 & -17 &  4 & -1 &  0 & -1 & -17 & -5 & -9 & 20 & 1 & 0\\\\\n",
       "\t2 & Siena    & 1 & 5 & 15 & 4 & -22 &  5 & -2 &  0 & -2 & -13 & -5 & -8 & 11 & 1 & 0\\\\\n",
       "\t3 & Catania  & 1 & 5 &  8 & 4 & -29 & 11 & -4 & -1 & -2 &  -8 & -4 & -4 & 13 & 2 & 0\\\\\n",
       "\t4 & Genoa    & 3 & 3 & 14 & 7 & -20 &  8 & -5 &  0 & -2 & -11 & -6 & -5 & 13 & 2 & 0\\\\\n",
       "\t5 & Inter    & 1 & 1 & 20 & 3 & -20 & 10 & -3 &  0 & -1 & -13 & -4 & -1 & 14 & 2 & 0\\\\\n",
       "\t6 & Juventus & 1 & 3 & 14 & 2 & -15 &  9 & -3 &  0 &  0 &  -6 &  0 & -2 & 14 & 2 & 0\\\\\n",
       "\\end{tabular}\n"
      ],
      "text/markdown": [
       "\n",
       "A data.frame: 6 × 16\n",
       "\n",
       "| <!--/--> | Team &lt;chr&gt; | Goal &lt;int&gt; | Results &lt;int&gt; | Shots &lt;int&gt; | Shots_on_Target &lt;int&gt; | Faults &lt;dbl&gt; | Corners &lt;int&gt; | Y_Card &lt;dbl&gt; | R_Card &lt;dbl&gt; | Goals_Suffered &lt;dbl&gt; | Shots_Suffered &lt;dbl&gt; | Shots_on_Target_Suffered &lt;dbl&gt; | Corners_Suffered &lt;dbl&gt; | Fauls_Suffered &lt;int&gt; | YC_Suffered &lt;int&gt; | RC_Suffered &lt;int&gt; |\n",
       "|---|---|---|---|---|---|---|---|---|---|---|---|---|---|---|---|---|\n",
       "| 1 | Bologna  | 1 | 1 |  6 | 4 | -17 |  4 | -1 |  0 | -1 | -17 | -5 | -9 | 20 | 1 | 0 |\n",
       "| 2 | Siena    | 1 | 5 | 15 | 4 | -22 |  5 | -2 |  0 | -2 | -13 | -5 | -8 | 11 | 1 | 0 |\n",
       "| 3 | Catania  | 1 | 5 |  8 | 4 | -29 | 11 | -4 | -1 | -2 |  -8 | -4 | -4 | 13 | 2 | 0 |\n",
       "| 4 | Genoa    | 3 | 3 | 14 | 7 | -20 |  8 | -5 |  0 | -2 | -11 | -6 | -5 | 13 | 2 | 0 |\n",
       "| 5 | Inter    | 1 | 1 | 20 | 3 | -20 | 10 | -3 |  0 | -1 | -13 | -4 | -1 | 14 | 2 | 0 |\n",
       "| 6 | Juventus | 1 | 3 | 14 | 2 | -15 |  9 | -3 |  0 |  0 |  -6 |  0 | -2 | 14 | 2 | 0 |\n",
       "\n"
      ],
      "text/plain": [
       "  Team     Goal Results Shots Shots_on_Target Faults Corners Y_Card R_Card\n",
       "1 Bologna  1    1        6    4               -17     4      -1      0    \n",
       "2 Siena    1    5       15    4               -22     5      -2      0    \n",
       "3 Catania  1    5        8    4               -29    11      -4     -1    \n",
       "4 Genoa    3    3       14    7               -20     8      -5      0    \n",
       "5 Inter    1    1       20    3               -20    10      -3      0    \n",
       "6 Juventus 1    3       14    2               -15     9      -3      0    \n",
       "  Goals_Suffered Shots_Suffered Shots_on_Target_Suffered Corners_Suffered\n",
       "1 -1             -17            -5                       -9              \n",
       "2 -2             -13            -5                       -8              \n",
       "3 -2              -8            -4                       -4              \n",
       "4 -2             -11            -6                       -5              \n",
       "5 -1             -13            -4                       -1              \n",
       "6  0              -6             0                       -2              \n",
       "  Fauls_Suffered YC_Suffered RC_Suffered\n",
       "1 20             1           0          \n",
       "2 11             1           0          \n",
       "3 13             2           0          \n",
       "4 13             2           0          \n",
       "5 14             2           0          \n",
       "6 14             2           0          "
      ]
     },
     "metadata": {},
     "output_type": "display_data"
    }
   ],
   "source": [
    "head(DatasetCombined)"
   ]
  },
  {
   "cell_type": "markdown",
   "id": "09871fed",
   "metadata": {},
   "source": [
    "## Aggregating data per team based on variables"
   ]
  },
  {
   "cell_type": "code",
   "execution_count": 39,
   "id": "90ad0602",
   "metadata": {
    "execution": {
     "iopub.execute_input": "2023-04-25T20:27:30.424719Z",
     "iopub.status.busy": "2023-04-25T20:27:30.423323Z",
     "iopub.status.idle": "2023-04-25T20:27:30.540115Z"
    }
   },
   "outputs": [],
   "source": [
    "Goal=aggregate(x= DatasetCombined$Goal,\n",
    "          by= list(DatasetCombined$Team),\n",
    "          FUN=sum)\n",
    "Results=aggregate(x= DatasetCombined$Results,\n",
    "          by= list(DatasetCombined$Team),\n",
    "          FUN=sum)\n",
    "Shots=aggregate(x= DatasetCombined$Shots,\n",
    "          by= list(DatasetCombined$Team),\n",
    "          FUN=sum)\n",
    "Shots_on_Target=aggregate(x= DatasetCombined$Shots_on_Target,\n",
    "          by= list(DatasetCombined$Team),\n",
    "          FUN=sum)\n",
    "Faults=aggregate(x= DatasetCombined$Faults,\n",
    "          by= list(DatasetCombined$Team),\n",
    "          FUN=sum)\n",
    "Corners=aggregate(x= DatasetCombined$Corners,\n",
    "          by= list(DatasetCombined$Team),\n",
    "          FUN=sum)\n",
    "Y_Card=aggregate(x= DatasetCombined$Y_Card,\n",
    "          by= list(DatasetCombined$Team),\n",
    "          FUN=sum)\n",
    "R_Card=aggregate(x= DatasetCombined$R_Card,\n",
    "          by= list(DatasetCombined$Team),\n",
    "          FUN=sum)\n",
    "Goals_Suffered=aggregate(x= DatasetCombined$Goals_Suffered,\n",
    "          by= list(DatasetCombined$Team),\n",
    "          FUN=sum)\n",
    "Shots_Suffered=aggregate(x= DatasetCombined$Shots_Suffered,\n",
    "          by= list(DatasetCombined$Team),\n",
    "          FUN=sum)\n",
    "Shots_on_Target_Suffered=aggregate(x= DatasetCombined$Shots_on_Target_Suffered,\n",
    "          by= list(DatasetCombined$Team),\n",
    "          FUN=sum)\n",
    "Corners_Suffered=aggregate(x= DatasetCombined$Corners_Suffered,\n",
    "          by= list(DatasetCombined$Team),\n",
    "          FUN=sum)\n",
    "Fauls_Suffered=aggregate(x= DatasetCombined$Fauls_Suffered,\n",
    "          by= list(DatasetCombined$Team),\n",
    "          FUN=sum)\n",
    "YC_Suffered=aggregate(x= DatasetCombined$YC_Suffered,\n",
    "          by= list(DatasetCombined$Team),\n",
    "          FUN=sum)\n",
    "RC_Suffered=aggregate(x= DatasetCombined$RC_Suffered,\n",
    "          by= list(DatasetCombined$Team),\n",
    "          FUN=sum)"
   ]
  },
  {
   "cell_type": "code",
   "execution_count": 40,
   "id": "0b38806b",
   "metadata": {},
   "outputs": [
    {
     "data": {
      "text/html": [
       "<table class=\"dataframe\">\n",
       "<caption>A data.frame: 6 × 2</caption>\n",
       "<thead>\n",
       "\t<tr><th></th><th scope=col>Group.1</th><th scope=col>x</th></tr>\n",
       "\t<tr><th></th><th scope=col>&lt;chr&gt;</th><th scope=col>&lt;int&gt;</th></tr>\n",
       "</thead>\n",
       "<tbody>\n",
       "\t<tr><th scope=row>1</th><td>Atalanta </td><td>435</td></tr>\n",
       "\t<tr><th scope=row>2</th><td>Bari     </td><td> 76</td></tr>\n",
       "\t<tr><th scope=row>3</th><td>Benevento</td><td> 33</td></tr>\n",
       "\t<tr><th scope=row>4</th><td>Bologna  </td><td>353</td></tr>\n",
       "\t<tr><th scope=row>5</th><td>Brescia  </td><td> 34</td></tr>\n",
       "\t<tr><th scope=row>6</th><td>Cagliari </td><td>386</td></tr>\n",
       "</tbody>\n",
       "</table>\n"
      ],
      "text/latex": [
       "A data.frame: 6 × 2\n",
       "\\begin{tabular}{r|ll}\n",
       "  & Group.1 & x\\\\\n",
       "  & <chr> & <int>\\\\\n",
       "\\hline\n",
       "\t1 & Atalanta  & 435\\\\\n",
       "\t2 & Bari      &  76\\\\\n",
       "\t3 & Benevento &  33\\\\\n",
       "\t4 & Bologna   & 353\\\\\n",
       "\t5 & Brescia   &  34\\\\\n",
       "\t6 & Cagliari  & 386\\\\\n",
       "\\end{tabular}\n"
      ],
      "text/markdown": [
       "\n",
       "A data.frame: 6 × 2\n",
       "\n",
       "| <!--/--> | Group.1 &lt;chr&gt; | x &lt;int&gt; |\n",
       "|---|---|---|\n",
       "| 1 | Atalanta  | 435 |\n",
       "| 2 | Bari      |  76 |\n",
       "| 3 | Benevento |  33 |\n",
       "| 4 | Bologna   | 353 |\n",
       "| 5 | Brescia   |  34 |\n",
       "| 6 | Cagliari  | 386 |\n",
       "\n"
      ],
      "text/plain": [
       "  Group.1   x  \n",
       "1 Atalanta  435\n",
       "2 Bari       76\n",
       "3 Benevento  33\n",
       "4 Bologna   353\n",
       "5 Brescia    34\n",
       "6 Cagliari  386"
      ]
     },
     "metadata": {},
     "output_type": "display_data"
    }
   ],
   "source": [
    "#example\n",
    "head(Goal)"
   ]
  },
  {
   "cell_type": "markdown",
   "id": "0d97e975",
   "metadata": {},
   "source": [
    "## Creating a new Dataframe with aggregated scores per team and variables"
   ]
  },
  {
   "cell_type": "code",
   "execution_count": 41,
   "id": "f36b21a8",
   "metadata": {
    "execution": {
     "iopub.execute_input": "2023-04-25T20:27:31.299129Z",
     "iopub.status.busy": "2023-04-25T20:27:31.297119Z",
     "iopub.status.idle": "2023-04-25T20:27:31.372748Z"
    }
   },
   "outputs": [],
   "source": [
    "#create a new dataframe\n",
    "#put all data frames into list\n",
    "GroupedDataset <- list(Goal, Results, Shots, Shots_on_Target, Faults, Corners, Y_Card, R_Card, Goals_Suffered, Shots_Suffered, Shots_on_Target_Suffered, Corners_Suffered, Fauls_Suffered, YC_Suffered, RC_Suffered)\n",
    "#merge all data frames in list\n",
    "GroupedDataset=GroupedDataset %>% reduce(full_join, by='Group.1')\n",
    "# assign column names \n",
    "colnames(GroupedDataset) <- c('Team', 'Goal',  'Results', 'Shots', 'Shots_on_Target', 'Faults', 'Corners','Y_Card', 'R_Card', 'Goals_Suffered', 'Shots_Suffered', 'Shots_on_Target_Suffered', 'Corners_Suffered', 'Fauls_Suffered', 'YC_Suffered', 'RC_Suffered')"
   ]
  },
  {
   "cell_type": "code",
   "execution_count": 42,
   "id": "87635ee8",
   "metadata": {},
   "outputs": [],
   "source": [
    "# for the application of the algorithm, it will be assigned rownames to Teams\n",
    "df <- GroupedDataset %>% remove_rownames %>% column_to_rownames(var=\"Team\")"
   ]
  },
  {
   "cell_type": "code",
   "execution_count": 43,
   "id": "628652de",
   "metadata": {},
   "outputs": [
    {
     "data": {
      "text/html": [
       "<table class=\"dataframe\">\n",
       "<caption>A data.frame: 6 × 15</caption>\n",
       "<thead>\n",
       "\t<tr><th></th><th scope=col>Goal</th><th scope=col>Results</th><th scope=col>Shots</th><th scope=col>Shots_on_Target</th><th scope=col>Faults</th><th scope=col>Corners</th><th scope=col>Y_Card</th><th scope=col>R_Card</th><th scope=col>Goals_Suffered</th><th scope=col>Shots_Suffered</th><th scope=col>Shots_on_Target_Suffered</th><th scope=col>Corners_Suffered</th><th scope=col>Fauls_Suffered</th><th scope=col>YC_Suffered</th><th scope=col>RC_Suffered</th></tr>\n",
       "\t<tr><th></th><th scope=col>&lt;int&gt;</th><th scope=col>&lt;int&gt;</th><th scope=col>&lt;int&gt;</th><th scope=col>&lt;int&gt;</th><th scope=col>&lt;dbl&gt;</th><th scope=col>&lt;int&gt;</th><th scope=col>&lt;dbl&gt;</th><th scope=col>&lt;dbl&gt;</th><th scope=col>&lt;dbl&gt;</th><th scope=col>&lt;dbl&gt;</th><th scope=col>&lt;dbl&gt;</th><th scope=col>&lt;dbl&gt;</th><th scope=col>&lt;int&gt;</th><th scope=col>&lt;int&gt;</th><th scope=col>&lt;int&gt;</th></tr>\n",
       "</thead>\n",
       "<tbody>\n",
       "\t<tr><th scope=row>Atalanta</th><td>435</td><td>1028</td><td>4294</td><td>1500</td><td>-5117</td><td>1844</td><td>-800</td><td>-63</td><td>-433</td><td>-4341</td><td>-1479</td><td>-1783</td><td>5325</td><td>774</td><td>43</td></tr>\n",
       "\t<tr><th scope=row>Bari</th><td> 76</td><td> 228</td><td> 841</td><td> 279</td><td>-1186</td><td> 309</td><td>-129</td><td>-10</td><td>-105</td><td>-1147</td><td> -370</td><td> -405</td><td>1154</td><td>165</td><td>11</td></tr>\n",
       "\t<tr><th scope=row>Benevento</th><td> 33</td><td> 134</td><td> 466</td><td> 146</td><td> -490</td><td> 165</td><td> -78</td><td> -7</td><td> -84</td><td> -561</td><td> -213</td><td> -203</td><td> 499</td><td> 70</td><td> 2</td></tr>\n",
       "\t<tr><th scope=row>Bologna</th><td>353</td><td>1036</td><td>3792</td><td>1293</td><td>-5225</td><td>1549</td><td>-816</td><td>-49</td><td>-471</td><td>-4572</td><td>-1617</td><td>-2006</td><td>5307</td><td>740</td><td>53</td></tr>\n",
       "\t<tr><th scope=row>Brescia</th><td> 34</td><td> 110</td><td> 491</td><td> 154</td><td> -650</td><td> 180</td><td> -93</td><td> -5</td><td> -52</td><td> -591</td><td> -196</td><td> -203</td><td> 586</td><td> 68</td><td> 4</td></tr>\n",
       "\t<tr><th scope=row>Cagliari</th><td>386</td><td>1029</td><td>3925</td><td>1335</td><td>-5461</td><td>1604</td><td>-836</td><td>-54</td><td>-519</td><td>-4602</td><td>-1651</td><td>-1872</td><td>5228</td><td>736</td><td>45</td></tr>\n",
       "</tbody>\n",
       "</table>\n"
      ],
      "text/latex": [
       "A data.frame: 6 × 15\n",
       "\\begin{tabular}{r|lllllllllllllll}\n",
       "  & Goal & Results & Shots & Shots\\_on\\_Target & Faults & Corners & Y\\_Card & R\\_Card & Goals\\_Suffered & Shots\\_Suffered & Shots\\_on\\_Target\\_Suffered & Corners\\_Suffered & Fauls\\_Suffered & YC\\_Suffered & RC\\_Suffered\\\\\n",
       "  & <int> & <int> & <int> & <int> & <dbl> & <int> & <dbl> & <dbl> & <dbl> & <dbl> & <dbl> & <dbl> & <int> & <int> & <int>\\\\\n",
       "\\hline\n",
       "\tAtalanta & 435 & 1028 & 4294 & 1500 & -5117 & 1844 & -800 & -63 & -433 & -4341 & -1479 & -1783 & 5325 & 774 & 43\\\\\n",
       "\tBari &  76 &  228 &  841 &  279 & -1186 &  309 & -129 & -10 & -105 & -1147 &  -370 &  -405 & 1154 & 165 & 11\\\\\n",
       "\tBenevento &  33 &  134 &  466 &  146 &  -490 &  165 &  -78 &  -7 &  -84 &  -561 &  -213 &  -203 &  499 &  70 &  2\\\\\n",
       "\tBologna & 353 & 1036 & 3792 & 1293 & -5225 & 1549 & -816 & -49 & -471 & -4572 & -1617 & -2006 & 5307 & 740 & 53\\\\\n",
       "\tBrescia &  34 &  110 &  491 &  154 &  -650 &  180 &  -93 &  -5 &  -52 &  -591 &  -196 &  -203 &  586 &  68 &  4\\\\\n",
       "\tCagliari & 386 & 1029 & 3925 & 1335 & -5461 & 1604 & -836 & -54 & -519 & -4602 & -1651 & -1872 & 5228 & 736 & 45\\\\\n",
       "\\end{tabular}\n"
      ],
      "text/markdown": [
       "\n",
       "A data.frame: 6 × 15\n",
       "\n",
       "| <!--/--> | Goal &lt;int&gt; | Results &lt;int&gt; | Shots &lt;int&gt; | Shots_on_Target &lt;int&gt; | Faults &lt;dbl&gt; | Corners &lt;int&gt; | Y_Card &lt;dbl&gt; | R_Card &lt;dbl&gt; | Goals_Suffered &lt;dbl&gt; | Shots_Suffered &lt;dbl&gt; | Shots_on_Target_Suffered &lt;dbl&gt; | Corners_Suffered &lt;dbl&gt; | Fauls_Suffered &lt;int&gt; | YC_Suffered &lt;int&gt; | RC_Suffered &lt;int&gt; |\n",
       "|---|---|---|---|---|---|---|---|---|---|---|---|---|---|---|---|\n",
       "| Atalanta | 435 | 1028 | 4294 | 1500 | -5117 | 1844 | -800 | -63 | -433 | -4341 | -1479 | -1783 | 5325 | 774 | 43 |\n",
       "| Bari |  76 |  228 |  841 |  279 | -1186 |  309 | -129 | -10 | -105 | -1147 |  -370 |  -405 | 1154 | 165 | 11 |\n",
       "| Benevento |  33 |  134 |  466 |  146 |  -490 |  165 |  -78 |  -7 |  -84 |  -561 |  -213 |  -203 |  499 |  70 |  2 |\n",
       "| Bologna | 353 | 1036 | 3792 | 1293 | -5225 | 1549 | -816 | -49 | -471 | -4572 | -1617 | -2006 | 5307 | 740 | 53 |\n",
       "| Brescia |  34 |  110 |  491 |  154 |  -650 |  180 |  -93 |  -5 |  -52 |  -591 |  -196 |  -203 |  586 |  68 |  4 |\n",
       "| Cagliari | 386 | 1029 | 3925 | 1335 | -5461 | 1604 | -836 | -54 | -519 | -4602 | -1651 | -1872 | 5228 | 736 | 45 |\n",
       "\n"
      ],
      "text/plain": [
       "          Goal Results Shots Shots_on_Target Faults Corners Y_Card R_Card\n",
       "Atalanta  435  1028    4294  1500            -5117  1844    -800   -63   \n",
       "Bari       76   228     841   279            -1186   309    -129   -10   \n",
       "Benevento  33   134     466   146             -490   165     -78    -7   \n",
       "Bologna   353  1036    3792  1293            -5225  1549    -816   -49   \n",
       "Brescia    34   110     491   154             -650   180     -93    -5   \n",
       "Cagliari  386  1029    3925  1335            -5461  1604    -836   -54   \n",
       "          Goals_Suffered Shots_Suffered Shots_on_Target_Suffered\n",
       "Atalanta  -433           -4341          -1479                   \n",
       "Bari      -105           -1147           -370                   \n",
       "Benevento  -84            -561           -213                   \n",
       "Bologna   -471           -4572          -1617                   \n",
       "Brescia    -52            -591           -196                   \n",
       "Cagliari  -519           -4602          -1651                   \n",
       "          Corners_Suffered Fauls_Suffered YC_Suffered RC_Suffered\n",
       "Atalanta  -1783            5325           774         43         \n",
       "Bari       -405            1154           165         11         \n",
       "Benevento  -203             499            70          2         \n",
       "Bologna   -2006            5307           740         53         \n",
       "Brescia    -203             586            68          4         \n",
       "Cagliari  -1872            5228           736         45         "
      ]
     },
     "metadata": {},
     "output_type": "display_data"
    }
   ],
   "source": [
    "head(df)"
   ]
  },
  {
   "cell_type": "code",
   "execution_count": 44,
   "id": "7af83cd2",
   "metadata": {},
   "outputs": [
    {
     "name": "stdout",
     "output_type": "stream",
     "text": [
      "'data.frame':\t34 obs. of  15 variables:\n",
      " $ Goal                    : int  435 76 33 353 34 386 37 215 98 356 ...\n",
      " $ Results                 : int  1028 228 134 1036 110 1029 114 514 344 1164 ...\n",
      " $ Shots                   : int  4294 841 466 3792 491 3925 426 2456 1268 4134 ...\n",
      " $ Shots_on_Target         : int  1500 279 146 1293 154 1335 132 752 378 1375 ...\n",
      " $ Faults                  : num  -5117 -1186 -490 -5225 -650 ...\n",
      " $ Corners                 : int  1844 309 165 1549 180 1604 178 919 515 1655 ...\n",
      " $ Y_Card                  : num  -800 -129 -78 -816 -93 -836 -105 -411 -272 -923 ...\n",
      " $ R_Card                  : num  -63 -10 -7 -49 -5 -54 -6 -36 -21 -40 ...\n",
      " $ Goals_Suffered          : num  -433 -105 -84 -471 -52 -519 -57 -261 -183 -514 ...\n",
      " $ Shots_Suffered          : num  -4341 -1147 -561 -4572 -591 ...\n",
      " $ Shots_on_Target_Suffered: num  -1479 -370 -213 -1617 -196 ...\n",
      " $ Corners_Suffered        : num  -1783 -405 -203 -2006 -203 ...\n",
      " $ Fauls_Suffered          : int  5325 1154 499 5307 586 5228 578 3206 1687 5445 ...\n",
      " $ YC_Suffered             : int  774 165 70 740 68 736 84 444 234 744 ...\n",
      " $ RC_Suffered             : int  43 11 2 53 4 45 9 23 8 49 ...\n"
     ]
    }
   ],
   "source": [
    "str(df)"
   ]
  },
  {
   "cell_type": "code",
   "execution_count": 45,
   "id": "71a80cec",
   "metadata": {},
   "outputs": [],
   "source": [
    "# Scaling dataset\n",
    "df <- scale(df)"
   ]
  },
  {
   "cell_type": "markdown",
   "id": "ac6b4c69",
   "metadata": {},
   "source": [
    "# KMean\n"
   ]
  },
  {
   "cell_type": "markdown",
   "id": "4d3c7850",
   "metadata": {},
   "source": [
    "The K-means is the unsupervised machine learning algorithm used to group the football teams in clusters based on the 10 years data. The FitKMeans function suggests that 5 would be the ideal number of clusters.  "
   ]
  },
  {
   "cell_type": "markdown",
   "id": "5441dc89",
   "metadata": {},
   "source": [
    "## Tuning the alghorithm"
   ]
  },
  {
   "cell_type": "code",
   "execution_count": 46,
   "id": "9c66f793",
   "metadata": {},
   "outputs": [],
   "source": [
    "#Looking for the best number of Clusters\n",
    "ClusteringNumber <- FitKMeans(df, max.clusters=20, nstart=20, seed=278613)\n"
   ]
  },
  {
   "cell_type": "code",
   "execution_count": 47,
   "id": "dd88ed08",
   "metadata": {},
   "outputs": [
    {
     "data": {
      "text/html": [
       "<table class=\"dataframe\">\n",
       "<caption>A data.frame: 19 × 3</caption>\n",
       "<thead>\n",
       "\t<tr><th scope=col>Clusters</th><th scope=col>Hartigan</th><th scope=col>AddCluster</th></tr>\n",
       "\t<tr><th scope=col>&lt;int&gt;</th><th scope=col>&lt;dbl&gt;</th><th scope=col>&lt;lgl&gt;</th></tr>\n",
       "</thead>\n",
       "<tbody>\n",
       "\t<tr><td> 2</td><td>165.4516164</td><td> TRUE</td></tr>\n",
       "\t<tr><td> 3</td><td> 23.3548787</td><td> TRUE</td></tr>\n",
       "\t<tr><td> 4</td><td> 12.4139732</td><td> TRUE</td></tr>\n",
       "\t<tr><td> 5</td><td> 16.6913251</td><td> TRUE</td></tr>\n",
       "\t<tr><td> 6</td><td>  6.8337616</td><td>FALSE</td></tr>\n",
       "\t<tr><td> 7</td><td>  6.9299904</td><td>FALSE</td></tr>\n",
       "\t<tr><td> 8</td><td>  4.0681769</td><td>FALSE</td></tr>\n",
       "\t<tr><td> 9</td><td>  4.4280613</td><td>FALSE</td></tr>\n",
       "\t<tr><td>10</td><td>  3.7243321</td><td>FALSE</td></tr>\n",
       "\t<tr><td>11</td><td>  5.4637701</td><td>FALSE</td></tr>\n",
       "\t<tr><td>12</td><td>  4.5913180</td><td>FALSE</td></tr>\n",
       "\t<tr><td>13</td><td>  2.6014182</td><td>FALSE</td></tr>\n",
       "\t<tr><td>14</td><td>  0.9819038</td><td>FALSE</td></tr>\n",
       "\t<tr><td>15</td><td>  0.8187498</td><td>FALSE</td></tr>\n",
       "\t<tr><td>16</td><td>  4.1969134</td><td>FALSE</td></tr>\n",
       "\t<tr><td>17</td><td>  0.8975209</td><td>FALSE</td></tr>\n",
       "\t<tr><td>18</td><td>  2.4062320</td><td>FALSE</td></tr>\n",
       "\t<tr><td>19</td><td>  1.2472677</td><td>FALSE</td></tr>\n",
       "\t<tr><td>20</td><td>  0.4368828</td><td>FALSE</td></tr>\n",
       "</tbody>\n",
       "</table>\n"
      ],
      "text/latex": [
       "A data.frame: 19 × 3\n",
       "\\begin{tabular}{lll}\n",
       " Clusters & Hartigan & AddCluster\\\\\n",
       " <int> & <dbl> & <lgl>\\\\\n",
       "\\hline\n",
       "\t  2 & 165.4516164 &  TRUE\\\\\n",
       "\t  3 &  23.3548787 &  TRUE\\\\\n",
       "\t  4 &  12.4139732 &  TRUE\\\\\n",
       "\t  5 &  16.6913251 &  TRUE\\\\\n",
       "\t  6 &   6.8337616 & FALSE\\\\\n",
       "\t  7 &   6.9299904 & FALSE\\\\\n",
       "\t  8 &   4.0681769 & FALSE\\\\\n",
       "\t  9 &   4.4280613 & FALSE\\\\\n",
       "\t 10 &   3.7243321 & FALSE\\\\\n",
       "\t 11 &   5.4637701 & FALSE\\\\\n",
       "\t 12 &   4.5913180 & FALSE\\\\\n",
       "\t 13 &   2.6014182 & FALSE\\\\\n",
       "\t 14 &   0.9819038 & FALSE\\\\\n",
       "\t 15 &   0.8187498 & FALSE\\\\\n",
       "\t 16 &   4.1969134 & FALSE\\\\\n",
       "\t 17 &   0.8975209 & FALSE\\\\\n",
       "\t 18 &   2.4062320 & FALSE\\\\\n",
       "\t 19 &   1.2472677 & FALSE\\\\\n",
       "\t 20 &   0.4368828 & FALSE\\\\\n",
       "\\end{tabular}\n"
      ],
      "text/markdown": [
       "\n",
       "A data.frame: 19 × 3\n",
       "\n",
       "| Clusters &lt;int&gt; | Hartigan &lt;dbl&gt; | AddCluster &lt;lgl&gt; |\n",
       "|---|---|---|\n",
       "|  2 | 165.4516164 |  TRUE |\n",
       "|  3 |  23.3548787 |  TRUE |\n",
       "|  4 |  12.4139732 |  TRUE |\n",
       "|  5 |  16.6913251 |  TRUE |\n",
       "|  6 |   6.8337616 | FALSE |\n",
       "|  7 |   6.9299904 | FALSE |\n",
       "|  8 |   4.0681769 | FALSE |\n",
       "|  9 |   4.4280613 | FALSE |\n",
       "| 10 |   3.7243321 | FALSE |\n",
       "| 11 |   5.4637701 | FALSE |\n",
       "| 12 |   4.5913180 | FALSE |\n",
       "| 13 |   2.6014182 | FALSE |\n",
       "| 14 |   0.9819038 | FALSE |\n",
       "| 15 |   0.8187498 | FALSE |\n",
       "| 16 |   4.1969134 | FALSE |\n",
       "| 17 |   0.8975209 | FALSE |\n",
       "| 18 |   2.4062320 | FALSE |\n",
       "| 19 |   1.2472677 | FALSE |\n",
       "| 20 |   0.4368828 | FALSE |\n",
       "\n"
      ],
      "text/plain": [
       "   Clusters Hartigan    AddCluster\n",
       "1   2       165.4516164  TRUE     \n",
       "2   3        23.3548787  TRUE     \n",
       "3   4        12.4139732  TRUE     \n",
       "4   5        16.6913251  TRUE     \n",
       "5   6         6.8337616 FALSE     \n",
       "6   7         6.9299904 FALSE     \n",
       "7   8         4.0681769 FALSE     \n",
       "8   9         4.4280613 FALSE     \n",
       "9  10         3.7243321 FALSE     \n",
       "10 11         5.4637701 FALSE     \n",
       "11 12         4.5913180 FALSE     \n",
       "12 13         2.6014182 FALSE     \n",
       "13 14         0.9819038 FALSE     \n",
       "14 15         0.8187498 FALSE     \n",
       "15 16         4.1969134 FALSE     \n",
       "16 17         0.8975209 FALSE     \n",
       "17 18         2.4062320 FALSE     \n",
       "18 19         1.2472677 FALSE     \n",
       "19 20         0.4368828 FALSE     "
      ]
     },
     "metadata": {},
     "output_type": "display_data"
    }
   ],
   "source": [
    "ClusteringNumber"
   ]
  },
  {
   "cell_type": "code",
   "execution_count": 48,
   "id": "5d3a0182",
   "metadata": {},
   "outputs": [
    {
     "data": {
      "image/png": "[encoded data removed]",
      "text/plain": [
       "plot without title"
      ]
     },
     "metadata": {
      "image/png": {
       "height": 420,
       "width": 420
      }
     },
     "output_type": "display_data"
    }
   ],
   "source": [
    "#Plot the best number of cluster\n",
    "PlotHartigan(ClusteringNumber)"
   ]
  },
  {
   "cell_type": "code",
   "execution_count": 49,
   "id": "379b0a03",
   "metadata": {},
   "outputs": [],
   "source": [
    "# output to be present as PNG file\n",
    "png(file = \"KMeansExample.png\")\n"
   ]
  },
  {
   "cell_type": "markdown",
   "id": "469cfa80",
   "metadata": {},
   "source": [
    "## Algorithm Application"
   ]
  },
  {
   "cell_type": "code",
   "execution_count": 50,
   "id": "a30fc130",
   "metadata": {},
   "outputs": [],
   "source": [
    "# Lunch algorithm with 5 Clusters\n",
    "km <- kmeans(df, centers = 5, nstart = 5000)"
   ]
  },
  {
   "cell_type": "code",
   "execution_count": 51,
   "id": "b465e0c0",
   "metadata": {},
   "outputs": [
    {
     "data": {
      "image/png": "[encoded data removed]",
      "text/plain": [
       "plot without title"
      ]
     },
     "metadata": {
      "image/png": {
       "height": 420,
       "width": 420
      }
     },
     "output_type": "display_data"
    }
   ],
   "source": [
    "# Visualize the clusters\n",
    "fviz_cluster(km, data = df, main = \"k-means with 8 clusters\")"
   ]
  },
  {
   "cell_type": "code",
   "execution_count": 52,
   "id": "ea81c2c2",
   "metadata": {},
   "outputs": [
    {
     "data": {
      "text/html": [
       "<strong>png:</strong> 3"
      ],
      "text/latex": [
       "\\textbf{png:} 3"
      ],
      "text/markdown": [
       "**png:** 3"
      ],
      "text/plain": [
       "png \n",
       "  3 "
      ]
     },
     "metadata": {},
     "output_type": "display_data"
    }
   ],
   "source": [
    "# saving the file\n",
    "dev.off()"
   ]
  },
  {
   "cell_type": "code",
   "execution_count": 53,
   "id": "a6787a41",
   "metadata": {},
   "outputs": [
    {
     "data": {
      "text/plain": [
       "            \n",
       "             1 2 3 4 5\n",
       "  Atalanta   1 0 0 0 0\n",
       "  Bari       0 1 0 0 0\n",
       "  Benevento  0 1 0 0 0\n",
       "  Bologna    1 0 0 0 0\n",
       "  Brescia    0 1 0 0 0\n",
       "  Cagliari   1 0 0 0 0\n",
       "  Carpi      0 1 0 0 0\n",
       "  Catania    0 0 0 0 1\n",
       "  Cesena     0 0 0 0 1\n",
       "  Chievo     1 0 0 0 0\n",
       "  Crotone    0 1 0 0 0\n",
       "  Empoli     0 0 0 0 1\n",
       "  Fiorentina 0 0 0 1 0\n",
       "  Frosinone  0 1 0 0 0\n",
       "  Genoa      1 0 0 0 0\n",
       "  Inter      0 0 0 1 0\n",
       "  Juventus   0 0 0 1 0\n",
       "  Lazio      0 0 0 1 0\n",
       "  Lecce      0 1 0 0 0\n",
       "  Livorno    0 1 0 0 0\n",
       "  Milan      0 0 0 1 0\n",
       "  Napoli     0 0 0 1 0\n",
       "  Novara     0 1 0 0 0\n",
       "  Palermo    0 0 1 0 0\n",
       "  Parma      0 0 1 0 0\n",
       "  Pescara    0 1 0 0 0\n",
       "  Roma       0 0 0 1 0\n",
       "  Sampdoria  1 0 0 0 0\n",
       "  Sassuolo   0 0 1 0 0\n",
       "  Siena      0 0 0 0 1\n",
       "  Spal       0 1 0 0 0\n",
       "  Torino     0 0 1 0 0\n",
       "  Udinese    1 0 0 0 0\n",
       "  Verona     0 0 0 0 1"
      ]
     },
     "metadata": {},
     "output_type": "display_data"
    }
   ],
   "source": [
    "# Which Cluster teams belong to\n",
    "table(GroupedDataset$Team, km$cluster)"
   ]
  },
  {
   "cell_type": "markdown",
   "id": "1dfa490a",
   "metadata": {},
   "source": [
    "# Conclusions"
   ]
  },
  {
   "cell_type": "markdown",
   "id": "51be9c1b",
   "metadata": {},
   "source": [
    "This study wants to answer the research question: “Following the matches played in the past ten years, by using the KMeans, what are the Clusters that can group similar teams?”. The tuning phase has suggested splitting the dataset into 5 clusters that can be identified as follow:\n",
    "- Cluster 1 – Europe: Juventus, Napoli, Roma, Inter, Milan, Fiorentina, Lazio. This group of teams is the most competitive in Serie A and fights yearly to access the European cups. \n",
    "- Cluster 2 – Usually Middle Rank: Atalanta, Sampdoria, Udinese, Genoa, Bologna, Cagliari, Chievo. This group of teams is not very competitive but can boast a few appearances in European cups. \n",
    "- Cluster 3 – Usually Middle Rank: Torino, Sassuolo, Parma, Palermo. This group of teams usually achieves quiet salvation.\n",
    "- Cluster 4 – Competing to survive: Catania, Empoli, Verona, Siena, Cesena. This group of teams usually fights not to be relegated to Serie B and earn their stays in Serie A with the last games of the championship. \n",
    "- Cluster 5 – One-off presence in Serie A: Pescara, Frosinone, Crotone, Bari, Spal, Livorno, Lecce, Benevento, Novara, Carpi, Brescia. This group of teams has sporadic appearances in Serie A, which usually ends in one year, and then moves on to Serie B.\n",
    "\n",
    "These groups identify the competitiveness of the Italian Serie A pretty well.\n",
    "\n"
   ]
  },
  {
   "cell_type": "code",
   "execution_count": null,
   "id": "35420908",
   "metadata": {},
   "outputs": [],
   "source": []
  }
 ],
 "metadata": {
  "kernelspec": {
   "display_name": "R",
   "language": "R",
   "name": "ir"
  },
  "language_info": {
   "codemirror_mode": "r",
   "file_extension": ".r",
   "mimetype": "text/x-r-source",
   "name": "R",
   "pygments_lexer": "r",
   "version": "4.2.3"
  },
  "toc": {
   "base_numbering": 1,
   "nav_menu": {},
   "number_sections": true,
   "sideBar": true,
   "skip_h1_title": false,
   "title_cell": "Table of Contents",
   "title_sidebar": "Contents",
   "toc_cell": true,
   "toc_position": {},
   "toc_section_display": true,
   "toc_window_display": false
  }
 },
 "nbformat": 4,
 "nbformat_minor": 5
}
